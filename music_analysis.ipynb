{
 "cells": [
  {
   "cell_type": "code",
   "execution_count": 3,
   "metadata": {},
   "outputs": [],
   "source": [
    "from music21 import *"
   ]
  },
  {
   "cell_type": "code",
   "execution_count": 4,
   "metadata": {},
   "outputs": [],
   "source": [
    "b = converter.parse(\"/Users/thebo/Downloads/text.xml\")\n",
    "\n",
    "for m in b.getElementsByClass('Measure'):\n",
    "    k = m.analyze('key')\n",
    "    print(m.number, k)\n",
    "\n",
    "#b.show(fmt = 'musicxml')    "
   ]
  },
  {
   "cell_type": "code",
   "execution_count": 5,
   "metadata": {},
   "outputs": [
    {
     "name": "stdout",
     "output_type": "stream",
     "text": [
      "0 E major\n",
      "1 E major\n",
      "2 A major\n",
      "3 f# minor\n",
      "4 E major\n",
      "5 A major\n",
      "6 f# minor\n",
      "7 C# major\n",
      "8 F# major\n",
      "9 b minor\n"
     ]
    }
   ],
   "source": [
    "s = corpus.parse('bwv66.6')\n",
    "sChords = s.chordify()\n",
    "sFlat = sChords.flatten()\n",
    "sOnlyChords = sFlat.getElementsByClass('Chord')\n",
    "displayPart = stream.Part(id='displayPart')\n",
    "for i in range(0, len(sOnlyChords) - 1):\n",
    "    thisChord = sOnlyChords[i]\n",
    "    nextChord = sOnlyChords[i + 1]\n",
    "for m in sChords.getElementsByClass('Measure'):\n",
    "    k = m.analyze('key')\n",
    "    print(m.number, k)"
   ]
  },
  {
   "cell_type": "code",
   "execution_count": 17,
   "metadata": {},
   "outputs": [],
   "source": [
    "def appendChordPairs(thisChord, nextChord):\n",
    "    if ((thisChord.isTriad() is True or #triad chord\n",
    "            thisChord.isSeventh() is True) and #or seventh chord\n",
    "                thisChord.root().name == 'A'): #and root is a\n",
    "        closePositionThisChord = thisChord.closedPosition(forceOctave=4) #play chords as close together in 4th octave\n",
    "        closePositionNextChord = nextChord.closedPosition(forceOctave=4) #play chords as close together in 4th octave\n",
    "\n",
    "        m = stream.Measure() #make a measure\n",
    "        m.append(closePositionThisChord) #append 7th or triad a chord\n",
    "        m.append(closePositionNextChord) #and the next one\n",
    "        displayPart.append(m) #append measure to whole stream\n",
    "\n",
    "displayPart = stream.Part(id='displayPart')\n",
    "\n",
    "#append chord pairs for all chords in file\n",
    "for i in range(len(sOnlyChords) - 1):\n",
    "    thisChord = sOnlyChords[i]\n",
    "    nextChord = sOnlyChords[i + 1]\n",
    "    appendChordPairs(thisChord, nextChord)\n",
    "\n",
    "# hightlight First Inversion Mediant (III6) chord\n",
    "for c in displayPart.recurse().getElementsByClass('Chord'):\n",
    "    if c.root().name == 'A':\n",
    "        c.style.color = 'pink'\n",
    "        for x in c.derivation.chain():\n",
    "            x.style.color = 'pink'\n",
    "\n",
    "#display\n",
    "displayPart.show(fmt='musicxml')\n"
   ]
  }
 ],
 "metadata": {
  "kernelspec": {
   "display_name": "Python 3.11.5 ('AIM')",
   "language": "python",
   "name": "python3"
  },
  "language_info": {
   "codemirror_mode": {
    "name": "ipython",
    "version": 3
   },
   "file_extension": ".py",
   "mimetype": "text/x-python",
   "name": "python",
   "nbconvert_exporter": "python",
   "pygments_lexer": "ipython3",
   "version": "3.11.5"
  },
  "orig_nbformat": 4,
  "vscode": {
   "interpreter": {
    "hash": "53801702708ef5feade50f5b990fe842f9a36cd71e3880a265f4185c1cf63833"
   }
  }
 },
 "nbformat": 4,
 "nbformat_minor": 2
}
