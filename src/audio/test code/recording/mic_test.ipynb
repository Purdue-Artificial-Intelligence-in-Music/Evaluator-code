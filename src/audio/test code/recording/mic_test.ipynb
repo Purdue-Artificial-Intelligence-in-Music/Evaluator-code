{
 "cells": [
  {
   "cell_type": "code",
   "execution_count": null,
   "metadata": {},
   "outputs": [],
   "source": [
    "'''\n",
    "Using music21 audio recording to create a score.\n",
    "Use that score to create a dataframe.\n",
    "Testing Librosa as well\n",
    "'''"
   ]
  },
  {
   "cell_type": "code",
   "execution_count": 2,
   "metadata": {},
   "outputs": [
    {
     "name": "stderr",
     "output_type": "stream",
     "text": [
      "C:\\Users\\brian\\AppData\\Local\\Temp\\ipykernel_37868\\21783884.py:3: DeprecationWarning: \n",
      "Pyarrow will become a required dependency of pandas in the next major release of pandas (pandas 3.0),\n",
      "(to allow more performant data types, such as the Arrow string type, and better interoperability with other libraries)\n",
      "but was not found to be installed on your system.\n",
      "If this would cause problems for you,\n",
      "please provide us feedback at https://github.com/pandas-dev/pandas/issues/54466\n",
      "        \n",
      "  import pandas as pd\n"
     ]
    }
   ],
   "source": [
    "from music21 import *\n",
    "import numpy\n",
    "import pandas as pd\n",
    "from music21 import audioSearch as audioSearchBase"
   ]
  },
  {
   "cell_type": "code",
   "execution_count": 14,
   "metadata": {},
   "outputs": [],
   "source": [
    "def runTranscribe(show, plot, useMic, audioFile,\n",
    "                  seconds, useScale, saveFile):\n",
    "    '''\n",
    "    runs all the methods to record from audio for `seconds` length (default 10.0)\n",
    "    and transcribe the resulting melody returning a music21.Score object\n",
    "    \n",
    "    if `show` is True, show the stream.  \n",
    "    \n",
    "    if `plot` is True then a Tk graph of the frequencies will be displayed.\n",
    "\n",
    "    'audioFile' is a filepath to recorded audio to use instead of the mic if usemic is false\n",
    "    \n",
    "    if `useMic` is True then use the microphone.  If False it will load the file of `saveFile`\n",
    "    or the default temp file to run transcriptions from.\n",
    "        \n",
    "    a different scale besides the chromatic scale can be specified by setting `useScale`.\n",
    "    See :ref:`moduleScale` for a list of allowable scales. (or a custom one can be given).\n",
    "    Microtonal scales are totally accepted, as are retuned scales where A != 440hz.\n",
    "\n",
    "    if `saveFile` is False then then the recorded audio is saved to disk.  If\n",
    "    set to `True` then `environLocal.getRootTempDir() + os.path.sep + 'ex.wav'` is\n",
    "    used as the filename.  If set to anything else then it will use that as the\n",
    "    filename. \n",
    "    '''\n",
    "\n",
    "    if useScale is None:\n",
    "        useScale = scale.ChromaticScale('C4')\n",
    "    #beginning - recording or not\n",
    "    if saveFile == True:\n",
    "        WAVE_FILENAME = 'score.mxl'\n",
    "    \n",
    "    # the rest of the score\n",
    "    if useMic is True:\n",
    "        print('listening')\n",
    "        freqFromAQList = audioSearchBase.getFrequenciesFromMicrophone(length=seconds, storeWaveFilename=WAVE_FILENAME)\n",
    "        print('finished listening')\n",
    "    else:\n",
    "        freqFromAQList = audioSearchBase.getFrequenciesFromAudioFile(waveFilename=audioFile)\n",
    "        \n",
    "    detectedPitchesFreq = audioSearchBase.detectPitchFrequencies(freqFromAQList, useScale)\n",
    "    detectedPitchesFreq = audioSearchBase.smoothFrequencies(detectedPitchesFreq)\n",
    "    (detectedPitchObjects, listplot) = audioSearchBase.pitchFrequenciesToObjects(detectedPitchesFreq, useScale)\n",
    "    (notesList, durationList) = audioSearchBase.joinConsecutiveIdenticalPitches(detectedPitchObjects)\n",
    "    myScore, unused_length_part = audioSearchBase.notesAndDurationsToStream(notesList, durationList, removeRestsAtBeginning=True)    \n",
    "\n",
    "    # This shows the score in MuseScore\n",
    "    if show == True:\n",
    "        myScore.show()        \n",
    "    \n",
    "    if plot == True:\n",
    "        try:\n",
    "            import matplotlib.pyplot # for find\n",
    "        except ImportError:\n",
    "            raise audioSearchBase.AudioSearchException(\"Cannot plot without matplotlib installed.\")\n",
    "        matplotlib.pyplot.plot(listplot)\n",
    "        matplotlib.pyplot.show()\n",
    "    print(\"END\")    \n",
    "        \n",
    "    return myScore\n",
    "\n"
   ]
  },
  {
   "cell_type": "code",
   "execution_count": 4,
   "metadata": {},
   "outputs": [],
   "source": [
    "\n",
    "# NOTE: This does not account for changing tempo (like the example does --> So it is wrong...) but it is not a hard fix.\n",
    "# Don't use this function for scores created through microphone.\n",
    "# This function is just ripped from mxl_test, but with an additional check\n",
    "def scoreToDataFrame(score):\n",
    "    \n",
    "    if type(score) != stream.PartStaff: #seems to be some differences between PartStaff and Part score types.\n",
    "        return\n",
    "    \n",
    "    dur_beats_list = []\n",
    "    dur_seconds_list = []\n",
    "    freq_list = []\n",
    "    name_list = []\n",
    "    start_time_list = []\n",
    "\n",
    "    length = score.metronomeMarkBoundaries()[0][2].numberSounding #quarter notes per minute \n",
    "    if length == None:\n",
    "        length = score.metronomeMarkBoundaries()[0][2].number\n",
    "    #Note, this up to offset 420.\n",
    "    qps = 60 / int(length) #quarter notes per second\n",
    "    \n",
    "    \n",
    "    content = score.getElementsByClass('Measure')\n",
    "    \n",
    "    for measure in content:\n",
    "        for n in measure.notesAndRests:\n",
    "            print(n)\n",
    "            if (type(n) == chord.Chord):\n",
    "               \n",
    "                for my_note in n:\n",
    "                    #print(note)\n",
    "                    name = my_note.nameWithOctave\n",
    "                    freq = my_note.pitch.frequency\n",
    "                    dur_seconds = my_note.duration.quarterLength * qps\n",
    "                    dur_beats = my_note.duration.type\n",
    "                    start_time = (measure.offset + n.offset) * qps #in seconds\n",
    "                    # note: This is calculated differently than above because the measure.offset gives the offset of the beginning of the measure.\n",
    "                    \n",
    "                    dur_beats_list.append(dur_beats)\n",
    "                    dur_seconds_list.append(dur_seconds)\n",
    "                    name_list.append(name)\n",
    "                    freq_list.append(freq)\n",
    "                    start_time_list.append(start_time)\n",
    "            elif (type(n) == note.Rest):\n",
    "                name = n.name\n",
    "                freq = 0\n",
    "                dur_seconds = n.duration.quarterLength * qps\n",
    "                dur_beats = n.duration.type\n",
    "                start_time = (measure.offset + n.offset) * qps\n",
    "                \n",
    "                dur_beats_list.append(dur_beats)\n",
    "                dur_seconds_list.append(dur_seconds)\n",
    "                name_list.append(name)\n",
    "                freq_list.append(freq)\n",
    "                start_time_list.append(start_time)\n",
    "            else:\n",
    "                print(type(n))\n",
    "    dict_temp = {'Duration in Beats': dur_beats_list, 'Duration in Seconds': dur_seconds_list, 'Name': name_list, 'Frequency': freq_list, 'Start Time in Seconds': start_time_list}\n",
    "    df = pd.DataFrame(data=dict_temp)\n",
    "    \n",
    "    return df"
   ]
  },
  {
   "cell_type": "code",
   "execution_count": 15,
   "metadata": {},
   "outputs": [
    {
     "name": "stdout",
     "output_type": "stream",
     "text": [
      "listening\n",
      "finished listening\n"
     ]
    },
    {
     "data": {
      "image/png": "[encoded data removed]",
      "text/plain": [
       "<IPython.core.display.Image object>"
      ]
     },
     "metadata": {
      "image/png": {
       "height": 156,
       "width": 697
      }
     },
     "output_type": "display_data"
    },
    {
     "name": "stdout",
     "output_type": "stream",
     "text": [
      "END\n"
     ]
    }
   ],
   "source": [
    "# Will listen to microphone audio for 10 seconds and create a Score object from it.\n",
    "# Output is based on playing eqt-major-sc.wav from my phone\n",
    "score = runTranscribe(show=True, plot=False, useMic=True, audioFile='',\n",
    "                  seconds=10.0, useScale=None, saveFile=True)"
   ]
  },
  {
   "cell_type": "code",
   "execution_count": 24,
   "metadata": {},
   "outputs": [],
   "source": [
    "#chords = score.chordify()\n",
    "\n",
    "#score\n",
    "#print(score.length)"
   ]
  },
  {
   "cell_type": "code",
   "execution_count": 25,
   "metadata": {},
   "outputs": [
    {
     "data": {
      "text/plain": [
       "<music21.stream.Score 0x271b326d950>"
      ]
     },
     "execution_count": 25,
     "metadata": {},
     "output_type": "execute_result"
    }
   ],
   "source": [
    "score"
   ]
  },
  {
   "cell_type": "code",
   "execution_count": 28,
   "metadata": {},
   "outputs": [],
   "source": [
    "#Create dataframe from score\n",
    "\n",
    "dur_beats_list = []\n",
    "dur_seconds_list = []\n",
    "freq_list = []\n",
    "name_list = []\n",
    "start_time_list = []\n",
    "\n",
    "length = score.metronomeMarkBoundaries()[0][2].number\n",
    "qps = 60 / int(length) #quarter notes per second\n",
    "\n",
    "for my_note in score.flatten():\n",
    "    #print(el)\n",
    "    if (type(my_note) == note.Note):\n",
    "        name = my_note.nameWithOctave\n",
    "        freq = my_note.pitch.frequency \n",
    "        dur_seconds = my_note.duration.quarterLength * qps #duration of note in s\n",
    "        dur_beats = my_note.duration.type #duration type\n",
    "        start_time = my_note.offset * qps #in seconds\n",
    "        \n",
    "        dur_beats_list.append(dur_beats)\n",
    "        dur_seconds_list.append(dur_seconds)\n",
    "        name_list.append(name)\n",
    "        freq_list.append(freq)\n",
    "        start_time_list.append(start_time)\n",
    "    elif type(my_note) == note.Rest: #Fill arrays if the note is a Rest\n",
    "        name = my_note.name\n",
    "        freq = 0\n",
    "        dur_seconds = my_note.duration.quarterLength * qps\n",
    "        dur_beats = my_note.duration.type\n",
    "        start_time = (my_note.offset) * qps\n",
    "        \n",
    "        dur_beats_list.append(dur_beats)\n",
    "        dur_seconds_list.append(dur_seconds)\n",
    "        name_list.append(name)\n",
    "        freq_list.append(freq)\n",
    "        start_time_list.append(start_time)\n",
    "\n"
   ]
  },
  {
   "cell_type": "code",
   "execution_count": 29,
   "metadata": {},
   "outputs": [],
   "source": [
    "dict_temp = {'Duration in Beats': dur_beats_list, 'Duration in Seconds': dur_seconds_list, 'Name': name_list, 'Frequency': freq_list, 'Start Time in Seconds': start_time_list}\n",
    "df = pd.DataFrame(data=dict_temp)"
   ]
  },
  {
   "cell_type": "code",
   "execution_count": 30,
   "metadata": {},
   "outputs": [
    {
     "data": {
      "text/html": [
       "<div>\n",
       "<style scoped>\n",
       "    .dataframe tbody tr th:only-of-type {\n",
       "        vertical-align: middle;\n",
       "    }\n",
       "\n",
       "    .dataframe tbody tr th {\n",
       "        vertical-align: top;\n",
       "    }\n",
       "\n",
       "    .dataframe thead th {\n",
       "        text-align: right;\n",
       "    }\n",
       "</style>\n",
       "<table border=\"1\" class=\"dataframe\">\n",
       "  <thead>\n",
       "    <tr style=\"text-align: right;\">\n",
       "      <th></th>\n",
       "      <th>Duration in Beats</th>\n",
       "      <th>Duration in Seconds</th>\n",
       "      <th>Name</th>\n",
       "      <th>Frequency</th>\n",
       "      <th>Start Time in Seconds</th>\n",
       "    </tr>\n",
       "  </thead>\n",
       "  <tbody>\n",
       "    <tr>\n",
       "      <th>0</th>\n",
       "      <td>quarter</td>\n",
       "      <td>0.500</td>\n",
       "      <td>G4</td>\n",
       "      <td>391.995436</td>\n",
       "      <td>0.0</td>\n",
       "    </tr>\n",
       "    <tr>\n",
       "      <th>1</th>\n",
       "      <td>quarter</td>\n",
       "      <td>0.500</td>\n",
       "      <td>A4</td>\n",
       "      <td>440.000000</td>\n",
       "      <td>0.5</td>\n",
       "    </tr>\n",
       "    <tr>\n",
       "      <th>2</th>\n",
       "      <td>quarter</td>\n",
       "      <td>0.500</td>\n",
       "      <td>B4</td>\n",
       "      <td>493.883301</td>\n",
       "      <td>1.0</td>\n",
       "    </tr>\n",
       "    <tr>\n",
       "      <th>3</th>\n",
       "      <td>quarter</td>\n",
       "      <td>0.500</td>\n",
       "      <td>C5</td>\n",
       "      <td>523.251131</td>\n",
       "      <td>1.5</td>\n",
       "    </tr>\n",
       "    <tr>\n",
       "      <th>4</th>\n",
       "      <td>16th</td>\n",
       "      <td>0.125</td>\n",
       "      <td>D4</td>\n",
       "      <td>293.664768</td>\n",
       "      <td>2.0</td>\n",
       "    </tr>\n",
       "  </tbody>\n",
       "</table>\n",
       "</div>"
      ],
      "text/plain": [
       "  Duration in Beats  Duration in Seconds Name   Frequency  \\\n",
       "0           quarter                0.500   G4  391.995436   \n",
       "1           quarter                0.500   A4  440.000000   \n",
       "2           quarter                0.500   B4  493.883301   \n",
       "3           quarter                0.500   C5  523.251131   \n",
       "4              16th                0.125   D4  293.664768   \n",
       "\n",
       "   Start Time in Seconds  \n",
       "0                    0.0  \n",
       "1                    0.5  \n",
       "2                    1.0  \n",
       "3                    1.5  \n",
       "4                    2.0  "
      ]
     },
     "execution_count": 30,
     "metadata": {},
     "output_type": "execute_result"
    }
   ],
   "source": [
    "df"
   ]
  },
  {
   "cell_type": "code",
   "execution_count": 31,
   "metadata": {},
   "outputs": [],
   "source": [
    "score.show(fmt=\"musicxml\")"
   ]
  },
  {
   "cell_type": "code",
   "execution_count": 37,
   "metadata": {},
   "outputs": [
    {
     "data": {
      "image/png": "[encoded data removed]",
      "text/plain": [
       "<IPython.core.display.Image object>"
      ]
     },
     "metadata": {
      "image/png": {
       "height": 151,
       "width": 697
      }
     },
     "output_type": "display_data"
    },
    {
     "name": "stdout",
     "output_type": "stream",
     "text": [
      "END\n"
     ]
    }
   ],
   "source": [
    "#Create score from microphone input\n",
    "orig_score = runTranscribe(show=True, plot=False, useMic=False, audioFile='eqt-major-sc.wav',\n",
    "                  seconds=20.0, useScale=None, saveFile=False)"
   ]
  },
  {
   "cell_type": "code",
   "execution_count": null,
   "metadata": {},
   "outputs": [],
   "source": [
    "#Trying out librosa to calculate frequencies of notes"
   ]
  },
  {
   "cell_type": "code",
   "execution_count": 8,
   "metadata": {},
   "outputs": [],
   "source": [
    "import librosa"
   ]
  },
  {
   "cell_type": "code",
   "execution_count": 9,
   "metadata": {},
   "outputs": [
    {
     "name": "stderr",
     "output_type": "stream",
     "text": [
      "Downloading file 'sorohanro_-_solo-trumpet-06.ogg' from 'https://librosa.org/data/audio/sorohanro_-_solo-trumpet-06.ogg' to 'C:\\Users\\brian\\AppData\\Local\\librosa\\librosa\\Cache'.\n"
     ]
    }
   ],
   "source": [
    "y, sr = librosa.load(librosa.ex('trumpet'))"
   ]
  },
  {
   "cell_type": "code",
   "execution_count": 17,
   "metadata": {},
   "outputs": [
    {
     "data": {
      "text/plain": [
       "array([-1.40682457e-03, -4.46077698e-04, -4.10981564e-04, ...,\n",
       "        7.96230779e-06, -3.04169989e-05,  1.27650665e-05], dtype=float32)"
      ]
     },
     "execution_count": 17,
     "metadata": {},
     "output_type": "execute_result"
    }
   ],
   "source": [
    "y"
   ]
  },
  {
   "cell_type": "code",
   "execution_count": 11,
   "metadata": {},
   "outputs": [],
   "source": [
    "f0, voiced_flag, voiced_probs = librosa.pyin(y,\n",
    "                                             fmin=librosa.note_to_hz('C2'),\n",
    "                                             fmax=librosa.note_to_hz('C7'))\n",
    "times = librosa.times_like(f0)"
   ]
  },
  {
   "cell_type": "code",
   "execution_count": 15,
   "metadata": {},
   "outputs": [
    {
     "data": {
      "text/plain": [
       "array([         nan, 618.67004831, 622.25396744, 622.25396744,\n",
       "       625.85864801, 625.85864801, 625.85864801, 622.25396744,\n",
       "       618.67004831, 618.67004831, 570.60940405, 573.9149107 ,\n",
       "       577.23956595, 580.58348074, 587.32953583, 587.32953583,\n",
       "       583.94676663, 567.32293571, 517.24107876, 517.24107876,\n",
       "       523.2511306 , 523.2511306 , 523.2511306 , 523.2511306 ,\n",
       "       523.2511306 , 468.86422072, 463.47885582, 463.47885582,\n",
       "       463.47885582, 463.47885582, 466.16376152, 463.47885582,\n",
       "       415.30469758, 412.91271854, 415.30469758, 417.71053322,\n",
       "       417.71053322, 415.30469758, 415.30469758, 455.51656649,\n",
       "       460.80941404, 463.47885582, 466.16376152, 466.16376152,\n",
       "       466.16376152, 447.69106453, 468.86422072, 485.39868175,\n",
       "       485.39868175, 502.5162293 , 514.26198937, 520.23742585,\n",
       "       523.2511306 , 523.2511306 , 523.2511306 , 523.2511306 ,\n",
       "       523.2511306 , 523.2511306 , 520.23742585, 517.24107876,\n",
       "       493.88330126, 482.60299107, 482.60299107, 485.39868175,\n",
       "       466.16376152, 463.47885582, 463.47885582, 442.54889407,\n",
       "       415.30469758, 412.91271854, 412.91271854, 408.17001145,\n",
       "       361.54373842, 355.33263339, 351.25129   , 349.22823143,\n",
       "       349.22823143, 349.22823143, 349.22823143, 347.21682483,\n",
       "       349.22823143, 349.22823143, 345.21700307, 351.25129   ,\n",
       "       351.25129   , 349.22823143, 349.22823143,          nan,\n",
       "       458.15534712, 460.80941404, 463.47885582, 463.47885582,\n",
       "       463.47885582, 463.47885582, 463.47885582, 463.47885582,\n",
       "       458.15534712, 460.80941404, 460.80941404, 463.47885582,\n",
       "       463.47885582, 410.53451628, 408.17001145, 410.53451628,\n",
       "       412.91271854, 415.30469758, 415.30469758, 412.91271854,\n",
       "       412.91271854, 412.91271854,          nan, 351.25129   ,\n",
       "       347.21682483, 345.21700307, 349.22823143, 349.22823143,\n",
       "       349.22823143, 347.21682483, 347.21682483, 349.22823143,\n",
       "       349.22823143, 349.22823143, 349.22823143, 349.22823143,\n",
       "       349.22823143, 349.22823143, 349.22823143, 349.22823143,\n",
       "       351.25129   , 351.25129   , 349.22823143, 351.25129   ,\n",
       "       347.21682483, 349.22823143, 349.22823143, 349.22823143,\n",
       "       349.22823143, 349.22823143, 349.22823143, 349.22823143,\n",
       "       349.22823143, 349.22823143, 349.22823143, 349.22823143,\n",
       "       349.22823143, 349.22823143, 349.22823143, 349.22823143,\n",
       "       349.22823143, 349.22823143, 349.22823143, 349.22823143,\n",
       "       347.21682483, 347.21682483, 347.21682483, 347.21682483,\n",
       "       347.21682483, 349.22823143, 349.22823143, 351.25129   ,\n",
       "       351.25129   , 349.22823143, 349.22823143, 349.22823143,\n",
       "       347.21682483, 347.21682483, 347.21682483, 347.21682483,\n",
       "       347.21682483, 347.21682483, 347.21682483, 347.21682483,\n",
       "       347.21682483, 347.21682483, 349.22823143, 349.22823143,\n",
       "       349.22823143, 349.22823143, 351.25129   , 351.25129   ,\n",
       "       351.25129   , 349.22823143, 347.21682483, 347.21682483,\n",
       "       349.22823143, 349.22823143, 345.21700307, 345.21700307,\n",
       "                nan,          nan,          nan,          nan,\n",
       "                nan,          nan,          nan,          nan,\n",
       "                nan,          nan,          nan,          nan,\n",
       "                nan,          nan,          nan,          nan,\n",
       "                nan,          nan,          nan,          nan,\n",
       "                nan,          nan,          nan,          nan,\n",
       "                nan,          nan,          nan,          nan,\n",
       "                nan,          nan,          nan,          nan,\n",
       "                nan,          nan,          nan,          nan,\n",
       "                nan,          nan,          nan,          nan,\n",
       "                nan,          nan])"
      ]
     },
     "execution_count": 15,
     "metadata": {},
     "output_type": "execute_result"
    }
   ],
   "source": [
    "f0"
   ]
  }
 ],
 "metadata": {
  "kernelspec": {
   "display_name": "vip2",
   "language": "python",
   "name": "python3"
  },
  "language_info": {
   "codemirror_mode": {
    "name": "ipython",
    "version": 3
   },
   "file_extension": ".py",
   "mimetype": "text/x-python",
   "name": "python",
   "nbconvert_exporter": "python",
   "pygments_lexer": "ipython3",
   "version": "0.0.0"
  }
 },
 "nbformat": 4,
 "nbformat_minor": 2
}
