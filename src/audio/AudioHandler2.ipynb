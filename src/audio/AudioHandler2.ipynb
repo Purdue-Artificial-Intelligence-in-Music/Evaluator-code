{
 "cells": [
  {
   "cell_type": "code",
   "execution_count": null,
   "id": "4457446d",
   "metadata": {},
   "outputs": [],
   "source": [
    "class AudioHandler2(object):\n",
    "    def __init__(self, name, chunk_size):\n",
    "        self.FORMAT = pyaudio.paFloat32\n",
    "        self.CHANNELS = INPUT_CHANNELS\n",
    "        self.RATE = SAMPLE_RATE\n",
    "        self.CHUNK = chunk_size * 2\n",
    "        self.p = None\n",
    "        self.stream = None\n",
    "        self.chunk_arr = np.ndarray(shape = (0,), dtype = np.float32)\n",
    "        self.name = name\n",
    "\n",
    "    def start(self):\n",
    "        self.p = pyaudio.PyAudio()\n",
    "        self.stream = self.p.open(format=self.FORMAT,\n",
    "                                  channels=self.CHANNELS,\n",
    "                                  rate=self.RATE,\n",
    "                                  input=True,\n",
    "                                  output=False,\n",
    "                                  stream_callback=self.callback,\n",
    "                                  frames_per_buffer=self.CHUNK)\n",
    "\n",
    "    def stop(self):\n",
    "        self.stream.close()\n",
    "        self.p.terminate()\n",
    "\n",
    "    def callback(self, in_data, frame_count, time_info, flag):\n",
    "        numpy_array = np.frombuffer(in_data, dtype=np.float32)\n",
    "        print(f\"Thread %s here with a chunk size of: \" % self.name)\n",
    "        print(len(numpy_array))\n",
    "        print()\n",
    "        return None, pyaudio.paContinue\n",
    "\n",
    "    def mainloop(self):\n",
    "        while (self.stream.is_active()): # if using button you can set self.stream to 0 (self.stream = 0), otherwise you can use a stop condition\n",
    "            time.sleep(2.0)\n",
    "\n",
    "class MyThread(threading.Thread):\n",
    "    def __init__(self, name, chunk_size):\n",
    "        super(MyThread, self).__init__()\n",
    "        self.name = name\n",
    "        self.au_hand = AudioHandler2(name, chunk_size)\n",
    "    def run(self):\n",
    "        self.au_hand.start()\n",
    "        self.au_hand.mainloop()\n",
    "    def stop(self):\n",
    "        self.au_hand.stop()"
   ]
  }
 ],
 "metadata": {
  "kernelspec": {
   "display_name": "Python 3 (ipykernel)",
   "language": "python",
   "name": "python3"
  },
  "language_info": {
   "codemirror_mode": {
    "name": "ipython",
    "version": 3
   },
   "file_extension": ".py",
   "mimetype": "text/x-python",
   "name": "python",
   "nbconvert_exporter": "python",
   "pygments_lexer": "ipython3",
   "version": "3.10.11"
  }
 },
 "nbformat": 4,
 "nbformat_minor": 5
}
