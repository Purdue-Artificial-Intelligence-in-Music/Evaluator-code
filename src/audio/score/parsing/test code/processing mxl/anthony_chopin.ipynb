{
 "cells": [
  {
   "cell_type": "code",
   "execution_count": 1,
   "metadata": {},
   "outputs": [],
   "source": [
    "from music21 import *\n",
    "import math\n",
    "import music21\n",
    "import numpy as np\n",
    "import pandas as pd"
   ]
  },
  {
   "cell_type": "code",
   "execution_count": 2,
   "metadata": {},
   "outputs": [],
   "source": [
    "score = converter.parse('./Chopin__Trois_Valses.mxl')\n",
    "# score.show('musicxml')"
   ]
  },
  {
   "cell_type": "code",
   "execution_count": 3,
   "metadata": {},
   "outputs": [
    {
     "name": "stdout",
     "output_type": "stream",
     "text": [
      "505\n"
     ]
    }
   ],
   "source": [
    "beats = score.getTimeSignatures(recurse=True)[0].numerator\n",
    "\n",
    "measures = int(math.ceil(score.highestTime / beats)) + 1\n",
    "print(measures)\n"
   ]
  },
  {
   "cell_type": "code",
   "execution_count": 4,
   "metadata": {},
   "outputs": [],
   "source": [
    "durations = []\n",
    "is_chord = []\n",
    "for i in range(1, measures, 1):\n",
    "    measure = score.parts[0].measure(i).flatten().notesAndRests\n",
    "    lengths = []\n",
    "    for j in range(0, len(measure)):\n",
    "        s = measure[j].duration.quarterLength\n",
    "        is_chord.append(False)\n",
    "        lengths.append(float(s))\n",
    "    durations.append(lengths)"
   ]
  },
  {
   "cell_type": "code",
   "execution_count": 5,
   "metadata": {},
   "outputs": [],
   "source": [
    "measure_notes = []\n",
    "measure_notes_frequency = []\n",
    "for i in range(1, measures, 1):\n",
    "    measure = score.parts[0].measure(i).flatten().notesAndRests\n",
    "    notes = []\n",
    "    notes_frequency = []\n",
    "    for j in range(0, len(measure)):\n",
    "        if (measure[j].isChord):\n",
    "            chord = measure[j].notes\n",
    "            notes.append(str(chord[-1].pitch.name + str(chord[-1].pitch.octave)))\n",
    "            notes_frequency.append(chord[-1].pitch.frequency)\n",
    "            continue\n",
    "        elif (measure[j].isRest):\n",
    "            s = 'rest'\n",
    "            f = 0.0\n",
    "        else:\n",
    "            f = measure[j].pitch.frequency\n",
    "            s = str(measure[j].pitch.name)\n",
    "            s += str(measure[j].pitch.octave)\n",
    "        notes.append(s)\n",
    "        notes_frequency.append(f)\n",
    "    measure_notes.append(notes)\n",
    "    measure_notes_frequency.append(notes_frequency)"
   ]
  },
  {
   "cell_type": "code",
   "execution_count": 6,
   "metadata": {},
   "outputs": [],
   "source": [
    "bpm = 260\n",
    "quarter_note_duration = (1 / bpm) * 60\n",
    "note_duration = []\n",
    "for measure in durations:\n",
    "    note_duration.append([note_length * quarter_note_duration for note_length in measure])\n",
    "# note_duration"
   ]
  },
  {
   "cell_type": "code",
   "execution_count": 7,
   "metadata": {},
   "outputs": [],
   "source": [
    "new_durations = np.concatenate(durations)\n",
    "new_measure_notes = np.concatenate(measure_notes)\n",
    "new_measure_notes_frequency = np.concatenate(measure_notes_frequency)\n",
    "new_note_duration = np.concatenate(note_duration)\n",
    "\n",
    "start_times = []\n",
    "start_times.append(0)\n",
    "curr_time = 0\n",
    "\n",
    "for i in range(0, len(new_note_duration) - 1):\n",
    "    curr_time += new_note_duration[i]\n",
    "    start_times.append(curr_time)\n",
    "\n",
    "note_type = [duration.Duration(quarterLength=quarter_note_length).type for quarter_note_length in new_durations]"
   ]
  },
  {
   "cell_type": "code",
   "execution_count": 8,
   "metadata": {},
   "outputs": [],
   "source": [
    "df = pd.DataFrame({'Note Type': note_type, 'Note Duration (Seconds)': new_note_duration, \n",
    "                   'Note Name': new_measure_notes, 'Note Frequency': new_measure_notes_frequency, \n",
    "                   'Start Time': start_times})"
   ]
  },
  {
   "cell_type": "code",
   "execution_count": 9,
   "metadata": {},
   "outputs": [
    {
     "data": {
      "text/html": [
       "<div>\n",
       "<style scoped>\n",
       "    .dataframe tbody tr th:only-of-type {\n",
       "        vertical-align: middle;\n",
       "    }\n",
       "\n",
       "    .dataframe tbody tr th {\n",
       "        vertical-align: top;\n",
       "    }\n",
       "\n",
       "    .dataframe thead th {\n",
       "        text-align: right;\n",
       "    }\n",
       "</style>\n",
       "<table border=\"1\" class=\"dataframe\">\n",
       "  <thead>\n",
       "    <tr style=\"text-align: right;\">\n",
       "      <th></th>\n",
       "      <th>Note Type</th>\n",
       "      <th>Note Duration (Seconds)</th>\n",
       "      <th>Note Name</th>\n",
       "      <th>Note Frequency</th>\n",
       "      <th>Start Time</th>\n",
       "    </tr>\n",
       "  </thead>\n",
       "  <tbody>\n",
       "    <tr>\n",
       "      <th>0</th>\n",
       "      <td>quarter</td>\n",
       "      <td>0.230769</td>\n",
       "      <td>A-4</td>\n",
       "      <td>415.304698</td>\n",
       "      <td>0.000000</td>\n",
       "    </tr>\n",
       "    <tr>\n",
       "      <th>1</th>\n",
       "      <td>eighth</td>\n",
       "      <td>0.115385</td>\n",
       "      <td>G4</td>\n",
       "      <td>391.995436</td>\n",
       "      <td>0.230769</td>\n",
       "    </tr>\n",
       "    <tr>\n",
       "      <th>2</th>\n",
       "      <td>eighth</td>\n",
       "      <td>0.115385</td>\n",
       "      <td>A-4</td>\n",
       "      <td>415.304698</td>\n",
       "      <td>0.346154</td>\n",
       "    </tr>\n",
       "    <tr>\n",
       "      <th>3</th>\n",
       "      <td>eighth</td>\n",
       "      <td>0.115385</td>\n",
       "      <td>C5</td>\n",
       "      <td>523.251131</td>\n",
       "      <td>0.461538</td>\n",
       "    </tr>\n",
       "    <tr>\n",
       "      <th>4</th>\n",
       "      <td>eighth</td>\n",
       "      <td>0.115385</td>\n",
       "      <td>B-4</td>\n",
       "      <td>466.163762</td>\n",
       "      <td>0.576923</td>\n",
       "    </tr>\n",
       "    <tr>\n",
       "      <th>...</th>\n",
       "      <td>...</td>\n",
       "      <td>...</td>\n",
       "      <td>...</td>\n",
       "      <td>...</td>\n",
       "      <td>...</td>\n",
       "    </tr>\n",
       "    <tr>\n",
       "      <th>2592</th>\n",
       "      <td>eighth</td>\n",
       "      <td>0.115385</td>\n",
       "      <td>A-5</td>\n",
       "      <td>830.609395</td>\n",
       "      <td>391.500000</td>\n",
       "    </tr>\n",
       "    <tr>\n",
       "      <th>2593</th>\n",
       "      <td>eighth</td>\n",
       "      <td>0.115385</td>\n",
       "      <td>E-5</td>\n",
       "      <td>622.253967</td>\n",
       "      <td>391.615385</td>\n",
       "    </tr>\n",
       "    <tr>\n",
       "      <th>2594</th>\n",
       "      <td>eighth</td>\n",
       "      <td>0.115385</td>\n",
       "      <td>C5</td>\n",
       "      <td>523.251131</td>\n",
       "      <td>391.730769</td>\n",
       "    </tr>\n",
       "    <tr>\n",
       "      <th>2595</th>\n",
       "      <td>eighth</td>\n",
       "      <td>0.115385</td>\n",
       "      <td>A-4</td>\n",
       "      <td>415.304698</td>\n",
       "      <td>391.846154</td>\n",
       "    </tr>\n",
       "    <tr>\n",
       "      <th>2596</th>\n",
       "      <td>eighth</td>\n",
       "      <td>0.115385</td>\n",
       "      <td>E-4</td>\n",
       "      <td>311.126984</td>\n",
       "      <td>391.961538</td>\n",
       "    </tr>\n",
       "  </tbody>\n",
       "</table>\n",
       "<p>2597 rows × 5 columns</p>\n",
       "</div>"
      ],
      "text/plain": [
       "     Note Type  Note Duration (Seconds) Note Name  Note Frequency  Start Time\n",
       "0      quarter                 0.230769       A-4      415.304698    0.000000\n",
       "1       eighth                 0.115385        G4      391.995436    0.230769\n",
       "2       eighth                 0.115385       A-4      415.304698    0.346154\n",
       "3       eighth                 0.115385        C5      523.251131    0.461538\n",
       "4       eighth                 0.115385       B-4      466.163762    0.576923\n",
       "...        ...                      ...       ...             ...         ...\n",
       "2592    eighth                 0.115385       A-5      830.609395  391.500000\n",
       "2593    eighth                 0.115385       E-5      622.253967  391.615385\n",
       "2594    eighth                 0.115385        C5      523.251131  391.730769\n",
       "2595    eighth                 0.115385       A-4      415.304698  391.846154\n",
       "2596    eighth                 0.115385       E-4      311.126984  391.961538\n",
       "\n",
       "[2597 rows x 5 columns]"
      ]
     },
     "execution_count": 9,
     "metadata": {},
     "output_type": "execute_result"
    }
   ],
   "source": [
    "df"
   ]
  },
  {
   "cell_type": "code",
   "execution_count": null,
   "metadata": {},
   "outputs": [],
   "source": []
  }
 ],
 "metadata": {
  "kernelspec": {
   "display_name": "Python 3",
   "language": "python",
   "name": "python3"
  },
  "language_info": {
   "codemirror_mode": {
    "name": "ipython",
    "version": 3
   },
   "file_extension": ".py",
   "mimetype": "text/x-python",
   "name": "python",
   "nbconvert_exporter": "python",
   "pygments_lexer": "ipython3",
   "version": "3.11.0"
  }
 },
 "nbformat": 4,
 "nbformat_minor": 2
}
