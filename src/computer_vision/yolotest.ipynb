{
 "cells": [
  {
   "cell_type": "code",
   "execution_count": 1,
   "metadata": {},
   "outputs": [
    {
     "name": "stdout",
     "output_type": "stream",
     "text": [
      "Looking in links: https://download.pytorch.org/whl/cu113/torch_stable.html\n",
      "Collecting torch==1.10.1+cu113\n",
      "  Downloading https://download.pytorch.org/whl/cu113/torch-1.10.1%2Bcu113-cp37-cp37m-win_amd64.whl (2442.3 MB)\n",
      "     ---------------------------------------- 2.4/2.4 GB 1.5 MB/s eta 0:00:00\n",
      "Collecting torchvision==0.11.2+cu113\n",
      "  Downloading https://download.pytorch.org/whl/cu113/torchvision-0.11.2%2Bcu113-cp37-cp37m-win_amd64.whl (3.2 MB)\n",
      "     ---------------------------------------- 3.2/3.2 MB 15.6 MB/s eta 0:00:00\n",
      "Collecting torchaudio==0.10.1+cu113\n",
      "  Downloading https://download.pytorch.org/whl/cu113/torchaudio-0.10.1%2Bcu113-cp37-cp37m-win_amd64.whl (336 kB)\n",
      "     -------------------------------------- 336.7/336.7 kB 6.9 MB/s eta 0:00:00\n",
      "Collecting typing-extensions\n",
      "  Downloading typing_extensions-4.7.1-py3-none-any.whl (33 kB)\n",
      "Collecting numpy\n",
      "  Downloading numpy-1.21.6-cp37-cp37m-win_amd64.whl (14.0 MB)\n",
      "     --------------------------------------- 14.0/14.0 MB 19.2 MB/s eta 0:00:00\n",
      "Collecting pillow!=8.3.0,>=5.3.0\n",
      "  Downloading Pillow-9.5.0-cp37-cp37m-win_amd64.whl (2.5 MB)\n",
      "     ---------------------------------------- 2.5/2.5 MB 20.2 MB/s eta 0:00:00\n",
      "Installing collected packages: typing-extensions, pillow, numpy, torch, torchvision, torchaudio\n",
      "Successfully installed numpy-1.21.6 pillow-9.5.0 torch-1.10.1+cu113 torchaudio-0.10.1+cu113 torchvision-0.11.2+cu113 typing-extensions-4.7.1\n"
     ]
    },
    {
     "name": "stderr",
     "output_type": "stream",
     "text": [
      "'nvcc' is not recognized as an internal or external command,\n",
      "operable program or batch file.\n"
     ]
    },
    {
     "name": "stdout",
     "output_type": "stream",
     "text": [
      "^C\n"
     ]
    }
   ],
   "source": [
    "!pip install torch==1.10.1+cu113 torchvision==0.11.2+cu113 torchaudio==0.10.1+cu113 -f https://download.pytorch.org/whl/cu113/torch_stable.html"
   ]
  },
  {
   "cell_type": "code",
   "execution_count": 2,
   "metadata": {},
   "outputs": [
    {
     "name": "stderr",
     "output_type": "stream",
     "text": [
      "Cloning into 'yolov5_obb'...\n"
     ]
    }
   ],
   "source": [
    "!git clone https://github.com/hukaixuan19970627/yolov5_obb.git"
   ]
  },
  {
   "cell_type": "code",
   "execution_count": 11,
   "metadata": {},
   "outputs": [
    {
     "name": "stdout",
     "output_type": "stream",
     "text": [
      "[WinError 2] The system cannot find the file specified: 'yolov5_obb/'\n",
      "c:\\Users\\Joshua Kamphuis\\OneDrive\\Desktop\\Purdue Classes\\AIM_code\\Evaluator-code\\src\\computer_vision\\yolov5_obb\\utils\n"
     ]
    }
   ],
   "source": [
    "%cd yolov5_obb/\n",
    "# !pip install -r requirements.txt"
   ]
  },
  {
   "cell_type": "code",
   "execution_count": 14,
   "metadata": {},
   "outputs": [
    {
     "name": "stdout",
     "output_type": "stream",
     "text": [
      " Volume in drive C has no label.\n",
      " Volume Serial Number is 56CE-C6F6\n",
      "\n",
      " Directory of c:\\Users\\Joshua Kamphuis\\OneDrive\\Desktop\\Purdue Classes\\AIM_code\\Evaluator-code\\src\\computer_vision\\yolov5_obb\\utils\\nms_rotated\n",
      "\n",
      "12/06/2023  11:19 PM    <DIR>          .\n",
      "12/06/2023  11:19 PM    <DIR>          ..\n",
      "12/06/2023  11:19 PM    <DIR>          __pycache__\n",
      "12/06/2023  11:07 PM    <DIR>          src\n",
      "               0 File(s)              0 bytes\n",
      "               4 Dir(s)  340,733,100,032 bytes free\n"
     ]
    }
   ],
   "source": [
    "%ldir"
   ]
  },
  {
   "cell_type": "code",
   "execution_count": 15,
   "metadata": {},
   "outputs": [
    {
     "name": "stderr",
     "output_type": "stream",
     "text": [
      "invalid command name '#or'\n"
     ]
    }
   ],
   "source": [
    "!python setup.py develop"
   ]
  },
  {
   "cell_type": "markdown",
   "metadata": {},
   "source": [
    "### Make a folder in the comp_vis folder called datasets"
   ]
  },
  {
   "cell_type": "code",
   "execution_count": 9,
   "metadata": {},
   "outputs": [
    {
     "name": "stdout",
     "output_type": "stream",
     "text": [
      "c:\\Users\\Joshua Kamphuis\\OneDrive\\Desktop\\Purdue Classes\\AIM_code\\Evaluator-code\\src\\computer_vision\\datasets\n"
     ]
    }
   ],
   "source": [
    "%cd ../../datasets\n"
   ]
  },
  {
   "cell_type": "code",
   "execution_count": 10,
   "metadata": {},
   "outputs": [
    {
     "name": "stdout",
     "output_type": "stream",
     "text": [
      "Collecting roboflow\n",
      "  Downloading roboflow-1.1.6-py3-none-any.whl (58 kB)\n",
      "     ---------------------------------------- 58.7/58.7 kB 1.1 MB/s eta 0:00:00\n",
      "Collecting requests-toolbelt\n",
      "  Downloading requests_toolbelt-1.0.0-py2.py3-none-any.whl (54 kB)\n",
      "     ---------------------------------------- 54.5/54.5 kB ? eta 0:00:00\n",
      "Collecting pyparsing==2.4.7\n",
      "  Downloading pyparsing-2.4.7-py2.py3-none-any.whl (67 kB)\n",
      "     ---------------------------------------- 67.8/67.8 kB 3.6 MB/s eta 0:00:00\n",
      "Collecting python-dotenv\n",
      "  Downloading python_dotenv-0.21.1-py3-none-any.whl (19 kB)\n",
      "Requirement already satisfied: tqdm>=4.41.0 in c:\\miniconda3\\envs\\yolo\\lib\\site-packages (from roboflow) (4.66.1)\n",
      "Requirement already satisfied: Pillow>=7.1.2 in c:\\miniconda3\\envs\\yolo\\lib\\site-packages (from roboflow) (9.5.0)\n",
      "Requirement already satisfied: PyYAML>=5.3.1 in c:\\miniconda3\\envs\\yolo\\lib\\site-packages (from roboflow) (6.0.1)\n",
      "Requirement already satisfied: kiwisolver>=1.3.1 in c:\\miniconda3\\envs\\yolo\\lib\\site-packages (from roboflow) (1.4.5)\n",
      "Requirement already satisfied: urllib3>=1.26.6 in c:\\miniconda3\\envs\\yolo\\lib\\site-packages (from roboflow) (2.0.7)\n",
      "Collecting opencv-python-headless==4.8.0.74\n",
      "  Downloading opencv_python_headless-4.8.0.74-cp37-abi3-win_amd64.whl (38.0 MB)\n",
      "     --------------------------------------- 38.0/38.0 MB 14.2 MB/s eta 0:00:00\n",
      "Collecting idna==2.10\n",
      "  Downloading idna-2.10-py2.py3-none-any.whl (58 kB)\n",
      "     ---------------------------------------- 58.8/58.8 kB ? eta 0:00:00\n",
      "Collecting supervision\n",
      "  Downloading supervision-0.11.1-py3-none-any.whl (55 kB)\n",
      "     ---------------------------------------- 55.6/55.6 kB ? eta 0:00:00\n",
      "Collecting chardet==4.0.0\n",
      "  Downloading chardet-4.0.0-py2.py3-none-any.whl (178 kB)\n",
      "     ------------------------------------- 178.7/178.7 kB 11.2 MB/s eta 0:00:00\n",
      "Requirement already satisfied: requests in c:\\miniconda3\\envs\\yolo\\lib\\site-packages (from roboflow) (2.31.0)\n",
      "Collecting cycler==0.10.0\n",
      "  Downloading cycler-0.10.0-py2.py3-none-any.whl (6.5 kB)\n",
      "Requirement already satisfied: python-dateutil in c:\\miniconda3\\envs\\yolo\\lib\\site-packages (from roboflow) (2.8.2)\n",
      "Requirement already satisfied: matplotlib in c:\\miniconda3\\envs\\yolo\\lib\\site-packages (from roboflow) (3.5.3)\n",
      "Requirement already satisfied: six in c:\\miniconda3\\envs\\yolo\\lib\\site-packages (from roboflow) (1.16.0)\n",
      "Requirement already satisfied: certifi==2022.12.7 in c:\\miniconda3\\envs\\yolo\\lib\\site-packages (from roboflow) (2022.12.7)\n",
      "Requirement already satisfied: numpy>=1.18.5 in c:\\miniconda3\\envs\\yolo\\lib\\site-packages (from roboflow) (1.21.6)\n",
      "Requirement already satisfied: typing-extensions in c:\\miniconda3\\envs\\yolo\\lib\\site-packages (from kiwisolver>=1.3.1->roboflow) (4.7.1)\n",
      "Requirement already satisfied: colorama in c:\\miniconda3\\envs\\yolo\\lib\\site-packages (from tqdm>=4.41.0->roboflow) (0.4.6)\n",
      "Requirement already satisfied: fonttools>=4.22.0 in c:\\miniconda3\\envs\\yolo\\lib\\site-packages (from matplotlib->roboflow) (4.38.0)\n",
      "Requirement already satisfied: packaging>=20.0 in c:\\miniconda3\\envs\\yolo\\lib\\site-packages (from matplotlib->roboflow) (22.0)\n",
      "Requirement already satisfied: charset-normalizer<4,>=2 in c:\\miniconda3\\envs\\yolo\\lib\\site-packages (from requests->roboflow) (3.3.2)\n",
      "Requirement already satisfied: opencv-python in c:\\miniconda3\\envs\\yolo\\lib\\site-packages (from supervision->roboflow) (4.8.1.78)\n",
      "Installing collected packages: python-dotenv, pyparsing, opencv-python-headless, idna, cycler, chardet, supervision, requests-toolbelt, roboflow\n",
      "  Attempting uninstall: pyparsing\n",
      "    Found existing installation: pyparsing 3.1.1\n",
      "    Uninstalling pyparsing-3.1.1:\n",
      "      Successfully uninstalled pyparsing-3.1.1\n",
      "  Attempting uninstall: idna\n",
      "    Found existing installation: idna 3.6\n",
      "    Uninstalling idna-3.6:\n",
      "      Successfully uninstalled idna-3.6\n",
      "  Attempting uninstall: cycler\n",
      "    Found existing installation: cycler 0.11.0\n",
      "    Uninstalling cycler-0.11.0:\n",
      "      Successfully uninstalled cycler-0.11.0\n",
      "Successfully installed chardet-4.0.0 cycler-0.10.0 idna-2.10 opencv-python-headless-4.8.0.74 pyparsing-2.4.7 python-dotenv-0.21.1 requests-toolbelt-1.0.0 roboflow-1.1.6 supervision-0.11.1\n",
      "loading Roboflow workspace...\n",
      "loading Roboflow project...\n"
     ]
    },
    {
     "name": "stderr",
     "output_type": "stream",
     "text": [
      "Downloading Dataset Version Zip in Bow-and-Strings-2 to yolov5-obb:: 100%|██████████| 1027/1027 [00:00<00:00, 4776.72it/s]"
     ]
    },
    {
     "name": "stdout",
     "output_type": "stream",
     "text": [
      "\n"
     ]
    },
    {
     "name": "stderr",
     "output_type": "stream",
     "text": [
      "\n",
      "Extracting Dataset Version Zip to Bow-and-Strings-2 in yolov5-obb:: 100%|██████████| 52/52 [00:00<00:00, 1624.68it/s]\n"
     ]
    }
   ],
   "source": [
    "!pip install roboflow\n",
    "\n",
    "from roboflow import Roboflow\n",
    "rf = Roboflow(api_key=\"tw1RlN5Mqqxps1xAAsMB\")\n",
    "project = rf.workspace(\"purdue-aim\").project(\"bow-and-strings\")\n",
    "dataset = project.version(2).download(\"yolov5-obb\")"
   ]
  },
  {
   "cell_type": "code",
   "execution_count": 12,
   "metadata": {},
   "outputs": [
    {
     "name": "stdout",
     "output_type": "stream",
     "text": [
      "c:\\Users\\Joshua Kamphuis\\OneDrive\\Desktop\\Purdue Classes\\AIM_code\\Evaluator-code\\src\\computer_vision\\yolov5_obb\n"
     ]
    }
   ],
   "source": [
    "%cd ../yolov5_obb/\n"
   ]
  },
  {
   "cell_type": "code",
   "execution_count": 13,
   "metadata": {},
   "outputs": [
    {
     "name": "stderr",
     "output_type": "stream",
     "text": [
      "Traceback (most recent call last):\n",
      "  File \"train.py\", line 34, in <module>\n",
      "    import val  # for end-of-epoch mAP\n",
      "  File \"c:\\Users\\Joshua Kamphuis\\OneDrive\\Desktop\\Purdue Classes\\AIM_code\\Evaluator-code\\src\\computer_vision\\yolov5_obb\\val.py\", line 28, in <module>\n",
      "    from models.common import DetectMultiBackend\n",
      "  File \"c:\\Users\\Joshua Kamphuis\\OneDrive\\Desktop\\Purdue Classes\\AIM_code\\Evaluator-code\\src\\computer_vision\\yolov5_obb\\models\\common.py\", line 23, in <module>\n",
      "    from utils.datasets import exif_transpose, letterbox\n",
      "  File \"c:\\Users\\Joshua Kamphuis\\OneDrive\\Desktop\\Purdue Classes\\AIM_code\\Evaluator-code\\src\\computer_vision\\yolov5_obb\\utils\\datasets.py\", line 28, in <module>\n",
      "    from utils.augmentations import Albumentations, augment_hsv, copy_paste, letterbox, mixup, random_perspective\n",
      "  File \"c:\\Users\\Joshua Kamphuis\\OneDrive\\Desktop\\Purdue Classes\\AIM_code\\Evaluator-code\\src\\computer_vision\\yolov5_obb\\utils\\augmentations.py\", line 12, in <module>\n",
      "    from utils.general import LOGGER, check_version, colorstr, resample_segments, segment2box\n",
      "  File \"c:\\Users\\Joshua Kamphuis\\OneDrive\\Desktop\\Purdue Classes\\AIM_code\\Evaluator-code\\src\\computer_vision\\yolov5_obb\\utils\\general.py\", line 35, in <module>\n",
      "    from utils.nms_rotated import obb_nms\n",
      "  File \"c:\\Users\\Joshua Kamphuis\\OneDrive\\Desktop\\Purdue Classes\\AIM_code\\Evaluator-code\\src\\computer_vision\\yolov5_obb\\utils\\nms_rotated\\__init__.py\", line 1, in <module>\n",
      "    from .nms_rotated_wrapper import obb_nms, poly_nms\n",
      "  File \"c:\\Users\\Joshua Kamphuis\\OneDrive\\Desktop\\Purdue Classes\\AIM_code\\Evaluator-code\\src\\computer_vision\\yolov5_obb\\utils\\nms_rotated\\nms_rotated_wrapper.py\", line 4, in <module>\n",
      "    from . import nms_rotated_ext\n",
      "ImportError: cannot import name 'nms_rotated_ext' from 'utils.nms_rotated' (c:\\Users\\Joshua Kamphuis\\OneDrive\\Desktop\\Purdue Classes\\AIM_code\\Evaluator-code\\src\\computer_vision\\yolov5_obb\\utils\\nms_rotated\\__init__.py)\n"
     ]
    }
   ],
   "source": [
    "!python train.py --data /content/datasets/roboflow/data.yaml --epochs 10 --batch-size 1 --img 1024 --device 0 --exist-ok"
   ]
  }
 ],
 "metadata": {
  "kernelspec": {
   "display_name": "yolo",
   "language": "python",
   "name": "python3"
  },
  "language_info": {
   "codemirror_mode": {
    "name": "ipython",
    "version": 3
   },
   "file_extension": ".py",
   "mimetype": "text/x-python",
   "name": "python",
   "nbconvert_exporter": "python",
   "pygments_lexer": "ipython3",
   "version": "3.7.16"
  }
 },
 "nbformat": 4,
 "nbformat_minor": 2
}
