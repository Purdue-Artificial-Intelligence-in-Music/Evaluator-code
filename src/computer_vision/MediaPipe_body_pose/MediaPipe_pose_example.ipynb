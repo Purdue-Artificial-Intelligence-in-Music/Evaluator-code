{
  "cells": [
    {
      "cell_type": "markdown",
      "metadata": {
        "id": "h2q27gKz1H20"
      },
      "source": [
        "##### Copyright 2023 The MediaPipe Authors. All Rights Reserved."
      ]
    },
    {
      "cell_type": "code",
      "execution_count": null,
      "metadata": {
        "cellView": "form",
        "id": "TUfAcER1oUS6"
      },
      "outputs": [],
      "source": [
        "#@title Licensed under the Apache License, Version 2.0 (the \"License\");\n",
        "# you may not use this file except in compliance with the License.\n",
        "# You may obtain a copy of the License at\n",
        "#\n",
        "# https://www.apache.org/licenses/LICENSE-2.0\n",
        "#\n",
        "# Unless required by applicable law or agreed to in writing, software\n",
        "# distributed under the License is distributed on an \"AS IS\" BASIS,\n",
        "# WITHOUT WARRANTIES OR CONDITIONS OF ANY KIND, either express or implied.\n",
        "# See the License for the specific language governing permissions and\n",
        "# limitations under the License."
      ]
    },
    {
      "cell_type": "markdown",
      "metadata": {
        "id": "L_cQX8dWu4Dv"
      },
      "source": [
        "# Pose Landmarks Detection with MediaPipe Tasks\n",
        "\n",
        "This notebook shows you how to use MediaPipe Tasks Python API to detect pose landmarks from images."
      ]
    },
    {
      "cell_type": "markdown",
      "metadata": {},
      "source": [
        "<span style=\"color:red\">\n",
        "From Josh :) <br/>\n",
        "Conda env setup: <br/>\n",
        "Copy paste these lines into your terminal\n",
        "</span>"
      ]
    },
    {
      "cell_type": "code",
      "execution_count": null,
      "metadata": {},
      "outputs": [],
      "source": [
        "conda create -n mediapipebody\n",
        "conda activate mediapipebody\n",
        "conda install ipykernel\n",
        "ipython kernel install --name mediapipebody --user"
      ]
    },
    {
      "cell_type": "markdown",
      "metadata": {
        "id": "O6PN9FvIx614"
      },
      "source": [
        "## Preparation\n",
        "\n",
        "Let's start with installing MediaPipe.\n"
      ]
    },
    {
      "cell_type": "code",
      "execution_count": 2,
      "metadata": {
        "id": "gxbHBsF-8Y_l"
      },
      "outputs": [
        {
          "name": "stdout",
          "output_type": "stream",
          "text": [
            "Collecting mediapipeNote: you may need to restart the kernel to use updated packages.\n",
            "\n",
            "  Downloading mediapipe-0.10.8-cp311-cp311-win_amd64.whl.metadata (9.8 kB)\n",
            "Collecting absl-py (from mediapipe)\n",
            "  Downloading absl_py-2.0.0-py3-none-any.whl.metadata (2.3 kB)\n",
            "Collecting attrs>=19.1.0 (from mediapipe)\n",
            "  Downloading attrs-23.1.0-py3-none-any.whl (61 kB)\n",
            "     ---------------------------------------- 0.0/61.2 kB ? eta -:--:--\n",
            "     ------ --------------------------------- 10.2/61.2 kB ? eta -:--:--\n",
            "     ------------------------------- ------ 51.2/61.2 kB 871.5 kB/s eta 0:00:01\n",
            "     -------------------------------------- 61.2/61.2 kB 821.3 kB/s eta 0:00:00\n",
            "Collecting flatbuffers>=2.0 (from mediapipe)\n",
            "  Downloading flatbuffers-23.5.26-py2.py3-none-any.whl.metadata (850 bytes)\n",
            "Collecting matplotlib (from mediapipe)\n",
            "  Downloading matplotlib-3.8.2-cp311-cp311-win_amd64.whl.metadata (5.9 kB)\n",
            "Collecting numpy (from mediapipe)\n",
            "  Using cached numpy-1.26.2-cp311-cp311-win_amd64.whl.metadata (61 kB)\n",
            "Collecting opencv-contrib-python (from mediapipe)\n",
            "  Downloading opencv_contrib_python-4.8.1.78-cp37-abi3-win_amd64.whl.metadata (20 kB)\n",
            "Collecting protobuf<4,>=3.11 (from mediapipe)\n",
            "  Downloading protobuf-3.20.3-py2.py3-none-any.whl (162 kB)\n",
            "     ---------------------------------------- 0.0/162.1 kB ? eta -:--:--\n",
            "     ---------------------------- --------- 122.9/162.1 kB 3.6 MB/s eta 0:00:01\n",
            "     -------------------------------------- 162.1/162.1 kB 3.2 MB/s eta 0:00:00\n",
            "Collecting sounddevice>=0.4.4 (from mediapipe)\n",
            "  Downloading sounddevice-0.4.6-py3-none-win_amd64.whl (199 kB)\n",
            "     ---------------------------------------- 0.0/199.7 kB ? eta -:--:--\n",
            "     -------------------------------------- 199.7/199.7 kB 6.1 MB/s eta 0:00:00\n",
            "Collecting CFFI>=1.0 (from sounddevice>=0.4.4->mediapipe)\n",
            "  Downloading cffi-1.16.0-cp311-cp311-win_amd64.whl.metadata (1.5 kB)\n",
            "Collecting contourpy>=1.0.1 (from matplotlib->mediapipe)\n",
            "  Downloading contourpy-1.2.0-cp311-cp311-win_amd64.whl.metadata (5.8 kB)\n",
            "Collecting cycler>=0.10 (from matplotlib->mediapipe)\n",
            "  Downloading cycler-0.12.1-py3-none-any.whl.metadata (3.8 kB)\n",
            "Collecting fonttools>=4.22.0 (from matplotlib->mediapipe)\n",
            "  Downloading fonttools-4.45.1-cp311-cp311-win_amd64.whl.metadata (158 kB)\n",
            "     ---------------------------------------- 0.0/158.4 kB ? eta -:--:--\n",
            "     ---------------------------------------- 158.4/158.4 kB ? eta 0:00:00\n",
            "Collecting kiwisolver>=1.3.1 (from matplotlib->mediapipe)\n",
            "  Downloading kiwisolver-1.4.5-cp311-cp311-win_amd64.whl.metadata (6.5 kB)\n",
            "Requirement already satisfied: packaging>=20.0 in c:\\miniconda3\\envs\\mediapipebody\\lib\\site-packages (from matplotlib->mediapipe) (23.1)\n",
            "Collecting pillow>=8 (from matplotlib->mediapipe)\n",
            "  Using cached Pillow-10.1.0-cp311-cp311-win_amd64.whl.metadata (9.6 kB)\n",
            "Collecting pyparsing>=2.3.1 (from matplotlib->mediapipe)\n",
            "  Downloading pyparsing-3.1.1-py3-none-any.whl.metadata (5.1 kB)\n",
            "Requirement already satisfied: python-dateutil>=2.7 in c:\\miniconda3\\envs\\mediapipebody\\lib\\site-packages (from matplotlib->mediapipe) (2.8.2)\n",
            "Collecting pycparser (from CFFI>=1.0->sounddevice>=0.4.4->mediapipe)\n",
            "  Downloading pycparser-2.21-py2.py3-none-any.whl (118 kB)\n",
            "     ---------------------------------------- 0.0/118.7 kB ? eta -:--:--\n",
            "     -------------------------------------- 118.7/118.7 kB 6.8 MB/s eta 0:00:00\n",
            "Requirement already satisfied: six>=1.5 in c:\\miniconda3\\envs\\mediapipebody\\lib\\site-packages (from python-dateutil>=2.7->matplotlib->mediapipe) (1.16.0)\n",
            "Downloading mediapipe-0.10.8-cp311-cp311-win_amd64.whl (50.5 MB)\n",
            "   ---------------------------------------- 0.0/50.5 MB ? eta -:--:--\n",
            "   ---------------------------------------- 0.1/50.5 MB 1.7 MB/s eta 0:00:31\n",
            "   ---------------------------------------- 0.3/50.5 MB 3.9 MB/s eta 0:00:13\n",
            "   ---------------------------------------- 0.4/50.5 MB 4.6 MB/s eta 0:00:11\n",
            "   ---------------------------------------- 0.4/50.5 MB 2.4 MB/s eta 0:00:22\n",
            "   ---------------------------------------- 0.6/50.5 MB 2.6 MB/s eta 0:00:19\n",
            "    --------------------------------------- 0.8/50.5 MB 3.2 MB/s eta 0:00:16\n",
            "    --------------------------------------- 0.8/50.5 MB 3.2 MB/s eta 0:00:16\n",
            "    --------------------------------------- 1.0/50.5 MB 2.7 MB/s eta 0:00:19\n",
            "   - -------------------------------------- 1.3/50.5 MB 3.2 MB/s eta 0:00:16\n",
            "   - -------------------------------------- 1.3/50.5 MB 3.2 MB/s eta 0:00:16\n",
            "   - -------------------------------------- 1.6/50.5 MB 3.2 MB/s eta 0:00:16\n",
            "   - -------------------------------------- 1.9/50.5 MB 3.5 MB/s eta 0:00:14\n",
            "   - -------------------------------------- 1.9/50.5 MB 3.5 MB/s eta 0:00:14\n",
            "   - -------------------------------------- 1.9/50.5 MB 3.1 MB/s eta 0:00:16\n",
            "   - -------------------------------------- 1.9/50.5 MB 3.1 MB/s eta 0:00:16\n",
            "   - -------------------------------------- 1.9/50.5 MB 3.1 MB/s eta 0:00:16\n",
            "   - -------------------------------------- 1.9/50.5 MB 3.1 MB/s eta 0:00:16\n",
            "   - -------------------------------------- 2.0/50.5 MB 2.4 MB/s eta 0:00:21\n",
            "   - -------------------------------------- 2.1/50.5 MB 2.4 MB/s eta 0:00:21\n",
            "   - -------------------------------------- 2.2/50.5 MB 2.4 MB/s eta 0:00:21\n",
            "   - -------------------------------------- 2.3/50.5 MB 2.4 MB/s eta 0:00:21\n",
            "   - -------------------------------------- 2.3/50.5 MB 2.4 MB/s eta 0:00:21\n",
            "   -- ------------------------------------- 2.5/50.5 MB 2.4 MB/s eta 0:00:21\n",
            "   -- ------------------------------------- 2.8/50.5 MB 2.5 MB/s eta 0:00:19\n",
            "   -- ------------------------------------- 3.1/50.5 MB 2.7 MB/s eta 0:00:18\n",
            "   -- ------------------------------------- 3.1/50.5 MB 2.7 MB/s eta 0:00:18\n",
            "   -- ------------------------------------- 3.1/50.5 MB 2.5 MB/s eta 0:00:19\n",
            "   -- ------------------------------------- 3.4/50.5 MB 2.7 MB/s eta 0:00:18\n",
            "   -- ------------------------------------- 3.6/50.5 MB 2.7 MB/s eta 0:00:18\n",
            "   --- ------------------------------------ 4.2/50.5 MB 3.0 MB/s eta 0:00:16\n",
            "   --- ------------------------------------ 4.6/50.5 MB 3.2 MB/s eta 0:00:15\n",
            "   --- ------------------------------------ 4.6/50.5 MB 3.2 MB/s eta 0:00:15\n",
            "   --- ------------------------------------ 4.6/50.5 MB 3.2 MB/s eta 0:00:15\n",
            "   --- ------------------------------------ 4.6/50.5 MB 2.9 MB/s eta 0:00:16\n",
            "   --- ------------------------------------ 4.9/50.5 MB 3.0 MB/s eta 0:00:16\n",
            "   --- ------------------------------------ 5.0/50.5 MB 3.0 MB/s eta 0:00:16\n",
            "   ---- ----------------------------------- 5.1/50.5 MB 3.0 MB/s eta 0:00:15\n",
            "   ---- ----------------------------------- 5.2/50.5 MB 2.9 MB/s eta 0:00:16\n",
            "   ---- ----------------------------------- 5.7/50.5 MB 3.1 MB/s eta 0:00:15\n",
            "   ---- ----------------------------------- 5.8/50.5 MB 3.2 MB/s eta 0:00:15\n",
            "   ---- ----------------------------------- 6.2/50.5 MB 3.2 MB/s eta 0:00:14\n",
            "   ----- ---------------------------------- 6.6/50.5 MB 3.3 MB/s eta 0:00:14\n",
            "   ----- ---------------------------------- 6.6/50.5 MB 3.3 MB/s eta 0:00:14\n",
            "   ----- ---------------------------------- 6.6/50.5 MB 3.3 MB/s eta 0:00:14\n",
            "   ----- ---------------------------------- 7.2/50.5 MB 3.4 MB/s eta 0:00:13\n",
            "   ----- ---------------------------------- 7.2/50.5 MB 3.4 MB/s eta 0:00:13\n",
            "   ----- ---------------------------------- 7.2/50.5 MB 3.4 MB/s eta 0:00:13\n",
            "   ----- ---------------------------------- 7.2/50.5 MB 3.4 MB/s eta 0:00:13\n",
            "   ----- ---------------------------------- 7.5/50.5 MB 3.2 MB/s eta 0:00:14\n",
            "   ------ --------------------------------- 7.8/50.5 MB 3.3 MB/s eta 0:00:13\n",
            "   ------ --------------------------------- 8.2/50.5 MB 3.4 MB/s eta 0:00:13\n",
            "   ------ --------------------------------- 8.8/50.5 MB 3.6 MB/s eta 0:00:12\n",
            "   ------- -------------------------------- 9.4/50.5 MB 3.8 MB/s eta 0:00:11\n",
            "   ------- -------------------------------- 9.6/50.5 MB 3.8 MB/s eta 0:00:11\n",
            "   ------- -------------------------------- 9.6/50.5 MB 3.8 MB/s eta 0:00:11\n",
            "   -------- ------------------------------- 10.3/50.5 MB 3.9 MB/s eta 0:00:11\n",
            "   -------- ------------------------------- 10.8/50.5 MB 4.1 MB/s eta 0:00:10\n",
            "   --------- ------------------------------ 11.7/50.5 MB 4.5 MB/s eta 0:00:09\n",
            "   --------- ------------------------------ 12.4/50.5 MB 5.5 MB/s eta 0:00:07\n",
            "   ---------- ----------------------------- 13.3/50.5 MB 6.4 MB/s eta 0:00:06\n",
            "   ---------- ----------------------------- 13.9/50.5 MB 6.7 MB/s eta 0:00:06\n",
            "   ----------- ---------------------------- 15.1/50.5 MB 7.9 MB/s eta 0:00:05\n",
            "   ------------ --------------------------- 15.5/50.5 MB 8.7 MB/s eta 0:00:05\n",
            "   ------------ --------------------------- 15.6/50.5 MB 8.4 MB/s eta 0:00:05\n",
            "   ------------- -------------------------- 16.6/50.5 MB 9.1 MB/s eta 0:00:04\n",
            "   ------------- -------------------------- 16.6/50.5 MB 9.4 MB/s eta 0:00:04\n",
            "   ------------- -------------------------- 16.6/50.5 MB 9.4 MB/s eta 0:00:04\n",
            "   ------------- -------------------------- 16.6/50.5 MB 9.4 MB/s eta 0:00:04\n",
            "   ------------- -------------------------- 16.8/50.5 MB 8.0 MB/s eta 0:00:05\n",
            "   ------------- -------------------------- 17.4/50.5 MB 8.6 MB/s eta 0:00:04\n",
            "   -------------- ------------------------- 17.8/50.5 MB 10.2 MB/s eta 0:00:04\n",
            "   -------------- ------------------------- 18.4/50.5 MB 10.4 MB/s eta 0:00:04\n",
            "   -------------- ------------------------- 18.8/50.5 MB 10.1 MB/s eta 0:00:04\n",
            "   -------------- ------------------------- 18.8/50.5 MB 10.1 MB/s eta 0:00:04\n",
            "   --------------- ------------------------ 19.5/50.5 MB 9.9 MB/s eta 0:00:04\n",
            "   ---------------- ----------------------- 20.5/50.5 MB 10.7 MB/s eta 0:00:03\n",
            "   ---------------- ----------------------- 20.5/50.5 MB 10.7 MB/s eta 0:00:03\n",
            "   ---------------- ----------------------- 20.5/50.5 MB 10.7 MB/s eta 0:00:03\n",
            "   ---------------- ----------------------- 20.5/50.5 MB 10.7 MB/s eta 0:00:03\n",
            "   ----------------- ---------------------- 21.8/50.5 MB 10.1 MB/s eta 0:00:03\n",
            "   ----------------- ---------------------- 22.0/50.5 MB 9.6 MB/s eta 0:00:03\n",
            "   ----------------- ---------------------- 22.3/50.5 MB 9.5 MB/s eta 0:00:03\n",
            "   ------------------ --------------------- 23.0/50.5 MB 9.2 MB/s eta 0:00:03\n",
            "   ------------------- -------------------- 24.1/50.5 MB 9.4 MB/s eta 0:00:03\n",
            "   ------------------- -------------------- 24.5/50.5 MB 9.4 MB/s eta 0:00:03\n",
            "   ------------------- -------------------- 24.5/50.5 MB 9.4 MB/s eta 0:00:03\n",
            "   ------------------- -------------------- 25.1/50.5 MB 8.6 MB/s eta 0:00:03\n",
            "   -------------------- ------------------- 25.8/50.5 MB 9.2 MB/s eta 0:00:03\n",
            "   -------------------- ------------------- 26.0/50.5 MB 9.1 MB/s eta 0:00:03\n",
            "   -------------------- ------------------- 26.0/50.5 MB 9.1 MB/s eta 0:00:03\n",
            "   -------------------- ------------------- 26.0/50.5 MB 9.1 MB/s eta 0:00:03\n",
            "   -------------------- ------------------- 26.0/50.5 MB 9.1 MB/s eta 0:00:03\n",
            "   -------------------- ------------------- 26.1/50.5 MB 7.8 MB/s eta 0:00:04\n",
            "   -------------------- ------------------- 26.1/50.5 MB 7.8 MB/s eta 0:00:04\n",
            "   -------------------- ------------------- 26.4/50.5 MB 7.4 MB/s eta 0:00:04\n",
            "   --------------------- ------------------ 27.1/50.5 MB 8.1 MB/s eta 0:00:03\n",
            "   --------------------- ------------------ 27.4/50.5 MB 8.2 MB/s eta 0:00:03\n",
            "   ---------------------- ----------------- 27.9/50.5 MB 8.0 MB/s eta 0:00:03\n",
            "   ---------------------- ----------------- 28.4/50.5 MB 8.0 MB/s eta 0:00:03\n",
            "   ---------------------- ----------------- 28.9/50.5 MB 8.1 MB/s eta 0:00:03\n",
            "   ----------------------- ---------------- 29.1/50.5 MB 8.4 MB/s eta 0:00:03\n",
            "   ----------------------- ---------------- 29.1/50.5 MB 8.4 MB/s eta 0:00:03\n",
            "   ----------------------- ---------------- 30.0/50.5 MB 7.8 MB/s eta 0:00:03\n",
            "   ----------------------- ---------------- 30.3/50.5 MB 7.8 MB/s eta 0:00:03\n",
            "   ----------------------- ---------------- 30.3/50.5 MB 7.8 MB/s eta 0:00:03\n",
            "   ----------------------- ---------------- 30.3/50.5 MB 7.8 MB/s eta 0:00:03\n",
            "   ----------------------- ---------------- 30.3/50.5 MB 7.8 MB/s eta 0:00:03\n",
            "   ----------------------- ---------------- 30.3/50.5 MB 7.8 MB/s eta 0:00:03\n",
            "   ----------------------- ---------------- 30.3/50.5 MB 7.8 MB/s eta 0:00:03\n",
            "   ----------------------- ---------------- 30.3/50.5 MB 6.3 MB/s eta 0:00:04\n",
            "   ------------------------ --------------- 30.6/50.5 MB 6.2 MB/s eta 0:00:04\n",
            "   ------------------------ --------------- 30.6/50.5 MB 6.2 MB/s eta 0:00:04\n",
            "   ------------------------- -------------- 31.6/50.5 MB 6.5 MB/s eta 0:00:03\n",
            "   ------------------------- -------------- 31.7/50.5 MB 6.4 MB/s eta 0:00:03\n",
            "   ------------------------- -------------- 32.4/50.5 MB 6.5 MB/s eta 0:00:03\n",
            "   ------------------------- -------------- 32.8/50.5 MB 6.7 MB/s eta 0:00:03\n",
            "   -------------------------- ------------- 33.2/50.5 MB 6.4 MB/s eta 0:00:03\n",
            "   -------------------------- ------------- 33.8/50.5 MB 6.4 MB/s eta 0:00:03\n",
            "   -------------------------- ------------- 33.8/50.5 MB 6.4 MB/s eta 0:00:03\n",
            "   -------------------------- ------------- 33.8/50.5 MB 6.4 MB/s eta 0:00:03\n",
            "   --------------------------- ------------ 34.8/50.5 MB 6.3 MB/s eta 0:00:03\n",
            "   --------------------------- ------------ 35.0/50.5 MB 6.2 MB/s eta 0:00:03\n",
            "   ---------------------------- ----------- 35.6/50.5 MB 6.1 MB/s eta 0:00:03\n",
            "   ---------------------------- ----------- 35.8/50.5 MB 6.1 MB/s eta 0:00:03\n",
            "   ---------------------------- ----------- 35.8/50.5 MB 6.1 MB/s eta 0:00:03\n",
            "   ---------------------------- ----------- 36.0/50.5 MB 5.6 MB/s eta 0:00:03\n",
            "   ---------------------------- ----------- 36.3/50.5 MB 6.5 MB/s eta 0:00:03\n",
            "   ----------------------------- ---------- 37.3/50.5 MB 6.8 MB/s eta 0:00:02\n",
            "   ----------------------------- ---------- 37.4/50.5 MB 6.7 MB/s eta 0:00:02\n",
            "   ------------------------------ --------- 38.1/50.5 MB 6.7 MB/s eta 0:00:02\n",
            "   ------------------------------ --------- 38.4/50.5 MB 6.8 MB/s eta 0:00:02\n",
            "   ------------------------------- -------- 39.5/50.5 MB 7.4 MB/s eta 0:00:02\n",
            "   ------------------------------- -------- 39.8/50.5 MB 7.3 MB/s eta 0:00:02\n",
            "   -------------------------------- ------- 40.9/50.5 MB 10.1 MB/s eta 0:00:01\n",
            "   -------------------------------- ------- 41.1/50.5 MB 9.6 MB/s eta 0:00:01\n",
            "   --------------------------------- ------ 42.0/50.5 MB 9.9 MB/s eta 0:00:01\n",
            "   --------------------------------- ------ 42.8/50.5 MB 10.2 MB/s eta 0:00:01\n",
            "   ---------------------------------- ----- 44.0/50.5 MB 10.6 MB/s eta 0:00:01\n",
            "   ----------------------------------- ---- 44.4/50.5 MB 11.5 MB/s eta 0:00:01\n",
            "   ----------------------------------- ---- 44.9/50.5 MB 11.5 MB/s eta 0:00:01\n",
            "   ----------------------------------- ---- 45.2/50.5 MB 11.7 MB/s eta 0:00:01\n",
            "   ------------------------------------ --- 45.7/50.5 MB 11.7 MB/s eta 0:00:01\n",
            "   ------------------------------------ --- 46.3/50.5 MB 12.8 MB/s eta 0:00:01\n",
            "   ------------------------------------- -- 47.1/50.5 MB 13.4 MB/s eta 0:00:01\n",
            "   ------------------------------------- -- 47.9/50.5 MB 13.9 MB/s eta 0:00:01\n",
            "   -------------------------------------- - 48.3/50.5 MB 14.2 MB/s eta 0:00:01\n",
            "   -------------------------------------- - 48.3/50.5 MB 14.2 MB/s eta 0:00:01\n",
            "   -------------------------------------- - 48.7/50.5 MB 13.1 MB/s eta 0:00:01\n",
            "   -------------------------------------- - 49.2/50.5 MB 12.6 MB/s eta 0:00:01\n",
            "   ---------------------------------------  50.2/50.5 MB 13.4 MB/s eta 0:00:01\n",
            "   ---------------------------------------  50.5/50.5 MB 13.1 MB/s eta 0:00:01\n",
            "   ---------------------------------------- 50.5/50.5 MB 12.1 MB/s eta 0:00:00\n",
            "Downloading flatbuffers-23.5.26-py2.py3-none-any.whl (26 kB)\n",
            "Downloading absl_py-2.0.0-py3-none-any.whl (130 kB)\n",
            "   ---------------------------------------- 0.0/130.2 kB ? eta -:--:--\n",
            "   ---------------------------------------- 130.2/130.2 kB ? eta 0:00:00\n",
            "Downloading matplotlib-3.8.2-cp311-cp311-win_amd64.whl (7.6 MB)\n",
            "   ---------------------------------------- 0.0/7.6 MB ? eta -:--:--\n",
            "   ------ --------------------------------- 1.3/7.6 MB 26.6 MB/s eta 0:00:01\n",
            "   ------------ --------------------------- 2.4/7.6 MB 24.9 MB/s eta 0:00:01\n",
            "   ----------------- ---------------------- 3.3/7.6 MB 23.2 MB/s eta 0:00:01\n",
            "   -------------------- ------------------- 4.0/7.6 MB 23.0 MB/s eta 0:00:01\n",
            "   ----------------------- ---------------- 4.5/7.6 MB 20.4 MB/s eta 0:00:01\n",
            "   ------------------------ --------------- 4.7/7.6 MB 16.6 MB/s eta 0:00:01\n",
            "   ----------------------------- ---------- 5.7/7.6 MB 17.3 MB/s eta 0:00:01\n",
            "   -------------------------------- ------- 6.2/7.6 MB 17.2 MB/s eta 0:00:01\n",
            "   -------------------------------------- - 7.4/7.6 MB 18.2 MB/s eta 0:00:01\n",
            "   ---------------------------------------- 7.6/7.6 MB 16.9 MB/s eta 0:00:00\n",
            "Using cached numpy-1.26.2-cp311-cp311-win_amd64.whl (15.8 MB)\n",
            "Downloading opencv_contrib_python-4.8.1.78-cp37-abi3-win_amd64.whl (44.8 MB)\n",
            "   ---------------------------------------- 0.0/44.8 MB ? eta -:--:--\n",
            "   ---------------------------------------- 0.5/44.8 MB 13.8 MB/s eta 0:00:04\n",
            "   - -------------------------------------- 1.5/44.8 MB 23.2 MB/s eta 0:00:02\n",
            "   - -------------------------------------- 1.5/44.8 MB 23.2 MB/s eta 0:00:02\n",
            "   - -------------------------------------- 1.9/44.8 MB 11.0 MB/s eta 0:00:04\n",
            "   -- ------------------------------------- 2.8/44.8 MB 13.8 MB/s eta 0:00:04\n",
            "   -- ------------------------------------- 2.8/44.8 MB 13.8 MB/s eta 0:00:04\n",
            "   -- ------------------------------------- 2.9/44.8 MB 9.6 MB/s eta 0:00:05\n",
            "   --- ------------------------------------ 4.2/44.8 MB 11.7 MB/s eta 0:00:04\n",
            "   ---- ----------------------------------- 5.1/44.8 MB 12.6 MB/s eta 0:00:04\n",
            "   ---- ----------------------------------- 5.4/44.8 MB 13.1 MB/s eta 0:00:04\n",
            "   ----- ---------------------------------- 6.1/44.8 MB 12.9 MB/s eta 0:00:04\n",
            "   ----- ---------------------------------- 6.6/44.8 MB 13.2 MB/s eta 0:00:03\n",
            "   ----- ---------------------------------- 6.6/44.8 MB 13.2 MB/s eta 0:00:03\n",
            "   ------ --------------------------------- 7.3/44.8 MB 11.4 MB/s eta 0:00:04\n",
            "   ------- -------------------------------- 8.4/44.8 MB 12.1 MB/s eta 0:00:03\n",
            "   ------- -------------------------------- 8.4/44.8 MB 12.1 MB/s eta 0:00:03\n",
            "   -------- ------------------------------- 9.3/44.8 MB 12.1 MB/s eta 0:00:03\n",
            "   -------- ------------------------------- 9.7/44.8 MB 12.2 MB/s eta 0:00:03\n",
            "   --------- ------------------------------ 10.2/44.8 MB 11.6 MB/s eta 0:00:03\n",
            "   ---------- ----------------------------- 11.3/44.8 MB 11.7 MB/s eta 0:00:03\n",
            "   ---------- ----------------------------- 12.0/44.8 MB 12.8 MB/s eta 0:00:03\n",
            "   ----------- ---------------------------- 13.2/44.8 MB 14.6 MB/s eta 0:00:03\n",
            "   ----------- ---------------------------- 13.2/44.8 MB 14.6 MB/s eta 0:00:03\n",
            "   ----------- ---------------------------- 13.3/44.8 MB 13.1 MB/s eta 0:00:03\n",
            "   ------------ --------------------------- 13.7/44.8 MB 12.1 MB/s eta 0:00:03\n",
            "   ------------ --------------------------- 14.5/44.8 MB 12.1 MB/s eta 0:00:03\n",
            "   ------------- -------------------------- 15.0/44.8 MB 11.9 MB/s eta 0:00:03\n",
            "   -------------- ------------------------- 16.4/44.8 MB 12.8 MB/s eta 0:00:03\n",
            "   --------------- ------------------------ 17.7/44.8 MB 14.9 MB/s eta 0:00:02\n",
            "   ---------------- ----------------------- 18.3/44.8 MB 14.9 MB/s eta 0:00:02\n",
            "   ---------------- ----------------------- 18.3/44.8 MB 14.9 MB/s eta 0:00:02\n",
            "   ----------------- ---------------------- 19.3/44.8 MB 14.2 MB/s eta 0:00:02\n",
            "   ------------------ --------------------- 20.2/44.8 MB 15.6 MB/s eta 0:00:02\n",
            "   ------------------ --------------------- 20.8/44.8 MB 14.9 MB/s eta 0:00:02\n",
            "   ------------------ --------------------- 20.9/44.8 MB 14.9 MB/s eta 0:00:02\n",
            "   ------------------ --------------------- 20.9/44.8 MB 14.9 MB/s eta 0:00:02\n",
            "   ------------------ --------------------- 21.0/44.8 MB 12.4 MB/s eta 0:00:02\n",
            "   ------------------ --------------------- 21.2/44.8 MB 12.1 MB/s eta 0:00:02\n",
            "   ------------------ --------------------- 21.3/44.8 MB 11.3 MB/s eta 0:00:03\n",
            "   -------------------- ------------------- 22.6/44.8 MB 11.7 MB/s eta 0:00:02\n",
            "   -------------------- ------------------- 22.6/44.8 MB 11.7 MB/s eta 0:00:02\n",
            "   --------------------- ------------------ 23.7/44.8 MB 12.8 MB/s eta 0:00:02\n",
            "   --------------------- ------------------ 24.0/44.8 MB 12.4 MB/s eta 0:00:02\n",
            "   ---------------------- ----------------- 24.8/44.8 MB 12.4 MB/s eta 0:00:02\n",
            "   ----------------------- ---------------- 25.8/44.8 MB 12.4 MB/s eta 0:00:02\n",
            "   ----------------------- ---------------- 26.3/44.8 MB 11.9 MB/s eta 0:00:02\n",
            "   ------------------------ --------------- 27.3/44.8 MB 11.9 MB/s eta 0:00:02\n",
            "   ------------------------ --------------- 27.7/44.8 MB 11.3 MB/s eta 0:00:02\n",
            "   ------------------------- -------------- 28.4/44.8 MB 11.1 MB/s eta 0:00:02\n",
            "   -------------------------- ------------- 29.6/44.8 MB 12.4 MB/s eta 0:00:02\n",
            "   -------------------------- ------------- 30.0/44.8 MB 11.7 MB/s eta 0:00:02\n",
            "   --------------------------- ------------ 30.7/44.8 MB 12.1 MB/s eta 0:00:02\n",
            "   ---------------------------- ----------- 32.1/44.8 MB 16.0 MB/s eta 0:00:01\n",
            "   ----------------------------- ---------- 33.0/44.8 MB 17.7 MB/s eta 0:00:01\n",
            "   ------------------------------ --------- 34.2/44.8 MB 18.2 MB/s eta 0:00:01\n",
            "   ------------------------------- -------- 35.2/44.8 MB 19.8 MB/s eta 0:00:01\n",
            "   -------------------------------- ------- 35.9/44.8 MB 19.3 MB/s eta 0:00:01\n",
            "   --------------------------------- ------ 37.3/44.8 MB 19.2 MB/s eta 0:00:01\n",
            "   ---------------------------------- ----- 38.3/44.8 MB 21.1 MB/s eta 0:00:01\n",
            "   ---------------------------------- ----- 39.1/44.8 MB 21.1 MB/s eta 0:00:01\n",
            "   ------------------------------------ --- 40.4/44.8 MB 23.4 MB/s eta 0:00:01\n",
            "   ------------------------------------ --- 41.0/44.8 MB 22.6 MB/s eta 0:00:01\n",
            "   ------------------------------------- -- 41.7/44.8 MB 21.8 MB/s eta 0:00:01\n",
            "   ------------------------------------- -- 42.2/44.8 MB 19.8 MB/s eta 0:00:01\n",
            "   -------------------------------------- - 43.6/44.8 MB 20.5 MB/s eta 0:00:01\n",
            "   ---------------------------------------  44.0/44.8 MB 19.2 MB/s eta 0:00:01\n",
            "   ---------------------------------------  44.4/44.8 MB 19.8 MB/s eta 0:00:01\n",
            "   ---------------------------------------  44.8/44.8 MB 17.7 MB/s eta 0:00:01\n",
            "   ---------------------------------------  44.8/44.8 MB 17.7 MB/s eta 0:00:01\n",
            "   ---------------------------------------- 44.8/44.8 MB 16.0 MB/s eta 0:00:00\n",
            "Downloading cffi-1.16.0-cp311-cp311-win_amd64.whl (181 kB)\n",
            "   ---------------------------------------- 0.0/181.5 kB ? eta -:--:--\n",
            "   --------------------------------------- 181.5/181.5 kB 10.7 MB/s eta 0:00:00\n",
            "Downloading contourpy-1.2.0-cp311-cp311-win_amd64.whl (187 kB)\n",
            "   ---------------------------------------- 0.0/187.6 kB ? eta -:--:--\n",
            "   ---------------------------------------  184.3/187.6 kB 5.6 MB/s eta 0:00:01\n",
            "   ---------------------------------------- 187.6/187.6 kB 5.7 MB/s eta 0:00:00\n",
            "Downloading cycler-0.12.1-py3-none-any.whl (8.3 kB)\n",
            "Downloading fonttools-4.45.1-cp311-cp311-win_amd64.whl (2.2 MB)\n",
            "   ---------------------------------------- 0.0/2.2 MB ? eta -:--:--\n",
            "   ----------------- ---------------------- 1.0/2.2 MB 20.3 MB/s eta 0:00:01\n",
            "   ---------------------------------------  2.1/2.2 MB 22.3 MB/s eta 0:00:01\n",
            "   ---------------------------------------- 2.2/2.2 MB 19.6 MB/s eta 0:00:00\n",
            "Downloading kiwisolver-1.4.5-cp311-cp311-win_amd64.whl (56 kB)\n",
            "   ---------------------------------------- 0.0/56.1 kB ? eta -:--:--\n",
            "   ---------------------------------------- 56.1/56.1 kB ? eta 0:00:00\n",
            "Using cached Pillow-10.1.0-cp311-cp311-win_amd64.whl (2.6 MB)\n",
            "Downloading pyparsing-3.1.1-py3-none-any.whl (103 kB)\n",
            "   ---------------------------------------- 0.0/103.1 kB ? eta -:--:--\n",
            "   ---------------------------------------- 103.1/103.1 kB ? eta 0:00:00\n",
            "Installing collected packages: flatbuffers, pyparsing, pycparser, protobuf, pillow, numpy, kiwisolver, fonttools, cycler, attrs, absl-py, opencv-contrib-python, contourpy, CFFI, sounddevice, matplotlib, mediapipe\n",
            "Successfully installed CFFI-1.16.0 absl-py-2.0.0 attrs-23.1.0 contourpy-1.2.0 cycler-0.12.1 flatbuffers-23.5.26 fonttools-4.45.1 kiwisolver-1.4.5 matplotlib-3.8.2 mediapipe-0.10.8 numpy-1.26.2 opencv-contrib-python-4.8.1.78 pillow-10.1.0 protobuf-3.20.3 pycparser-2.21 pyparsing-3.1.1 sounddevice-0.4.6\n"
          ]
        }
      ],
      "source": [
        "%pip install mediapipe"
      ]
    },
    {
      "cell_type": "markdown",
      "metadata": {
        "id": "a49D7h4TVmru"
      },
      "source": [
        "Then download an off-the-shelf model bundle. Check out the [MediaPipe documentation](https://developers.google.com/mediapipe/solutions/vision/pose_landmarker#models) for more information about this model bundle."
      ]
    },
    {
      "cell_type": "markdown",
      "metadata": {},
      "source": [
        "<span style=\"color:red\">\n",
        "From Josh: The !wget command didn't work for me. I just clicked the link to download manually, renamed the file to pose_landmarker.task, and put it in this directory\n",
        "</span>"
      ]
    },
    {
      "cell_type": "code",
      "execution_count": 3,
      "metadata": {
        "id": "OMjuVQiDYJKF"
      },
      "outputs": [
        {
          "name": "stderr",
          "output_type": "stream",
          "text": [
            "'wget' is not recognized as an internal or external command,\n",
            "operable program or batch file.\n"
          ]
        }
      ],
      "source": [
        "!wget -O pose_landmarker.task -q https://storage.googleapis.com/mediapipe-models/pose_landmarker/pose_landmarker_heavy/float16/1/pose_landmarker_heavy.task"
      ]
    },
    {
      "cell_type": "markdown",
      "metadata": {
        "id": "YYKAJ5nDU8-I"
      },
      "source": [
        "## Visualization utilities"
      ]
    },
    {
      "cell_type": "code",
      "execution_count": 5,
      "metadata": {
        "id": "s3E6NFV-00Qt"
      },
      "outputs": [],
      "source": [
        "#@markdown To better demonstrate the Pose Landmarker API, we have created a set of visualization tools that will be used in this colab. These will draw the landmarks on a detect person, as well as the expected connections between those markers.\n",
        "\n",
        "from mediapipe import solutions\n",
        "from mediapipe.framework.formats import landmark_pb2\n",
        "import numpy as np\n",
        "\n",
        "\n",
        "def draw_landmarks_on_image(rgb_image, detection_result):\n",
        "  pose_landmarks_list = detection_result.pose_landmarks\n",
        "  annotated_image = np.copy(rgb_image)\n",
        "\n",
        "  # Loop through the detected poses to visualize.\n",
        "  for idx in range(len(pose_landmarks_list)):\n",
        "    pose_landmarks = pose_landmarks_list[idx]\n",
        "\n",
        "    # Draw the pose landmarks.\n",
        "    pose_landmarks_proto = landmark_pb2.NormalizedLandmarkList()\n",
        "    pose_landmarks_proto.landmark.extend([\n",
        "      landmark_pb2.NormalizedLandmark(x=landmark.x, y=landmark.y, z=landmark.z) for landmark in pose_landmarks\n",
        "    ])\n",
        "    solutions.drawing_utils.draw_landmarks(\n",
        "      annotated_image,\n",
        "      pose_landmarks_proto,\n",
        "      solutions.pose.POSE_CONNECTIONS,\n",
        "      solutions.drawing_styles.get_default_pose_landmarks_style())\n",
        "  return annotated_image"
      ]
    },
    {
      "cell_type": "markdown",
      "metadata": {
        "id": "83PEJNp9yPBU"
      },
      "source": [
        "## Download test image\n",
        "\n",
        "To demonstrate the Pose Landmarker API, you can download a sample image using the follow code. The image is from [Pixabay](https://pixabay.com/photos/girl-woman-fitness-beautiful-smile-4051811/)."
      ]
    },
    {
      "cell_type": "markdown",
      "metadata": {},
      "source": [
        "<span style=\"color:red\">\n",
        "From Josh: This uses a google colab thing to show images. I've tweaked the code to use the defult cv2.imshow\n",
        "</span>"
      ]
    },
    {
      "cell_type": "code",
      "execution_count": null,
      "metadata": {},
      "outputs": [],
      "source": [
        "%pip install google.colab.patches"
      ]
    },
    {
      "cell_type": "code",
      "execution_count": 3,
      "metadata": {
        "id": "tzXuqyIBlXer"
      },
      "outputs": [],
      "source": [
        "# !wget -q -O image.jpg https://cdn.pixabay.com/photo/2019/03/12/20/39/girl-4051811_960_720.jpg\n",
        "\n",
        "import cv2\n",
        "#from google.colab.patches import cv2_imshow\n",
        "\n",
        "img = cv2.imread(\"image.jpg\")\n",
        "cv2.imshow(\"image\", img)\n",
        "cv2.waitKey(0)\n",
        "cv2.destroyAllWindows()"
      ]
    },
    {
      "cell_type": "markdown",
      "metadata": {
        "id": "u-skLwMBmMN_"
      },
      "source": [
        "Optionally, you can upload your own image. If you want to do so, uncomment and run the cell below."
      ]
    },
    {
      "cell_type": "code",
      "execution_count": null,
      "metadata": {
        "id": "etBjSdwImQPw"
      },
      "outputs": [],
      "source": [
        "# from google.colab import files\n",
        "# uploaded = files.upload()\n",
        "\n",
        "# for filename in uploaded:\n",
        "#   content = uploaded[filename]\n",
        "#   with open(filename, 'wb') as f:\n",
        "#     f.write(content)\n",
        "\n",
        "# if len(uploaded.keys()):\n",
        "#   IMAGE_FILE = next(iter(uploaded))\n",
        "#   print('Uploaded file:', IMAGE_FILE)"
      ]
    },
    {
      "cell_type": "markdown",
      "metadata": {
        "id": "Iy4r2_ePylIa"
      },
      "source": [
        "## Running inference and visualizing the results\n",
        "\n",
        "The final step is to run pose landmark detection on your selected image. This involves creating your PoseLandmarker object, loading your image, running detection, and finally, the optional step of displaying the image with visualizations.\n",
        "\n",
        "Check out the [MediaPipe documentation](https://developers.google.com/mediapipe/solutions/vision/pose_landmarker/python) to learn more about configuration options that this solution supports.\n"
      ]
    },
    {
      "cell_type": "code",
      "execution_count": 6,
      "metadata": {
        "id": "_JVO3rvPD4RN"
      },
      "outputs": [],
      "source": [
        "# STEP 1: Import the necessary modules.\n",
        "import mediapipe as mp\n",
        "from mediapipe.tasks import python\n",
        "from mediapipe.tasks.python import vision\n",
        "\n",
        "# STEP 2: Create an PoseLandmarker object.\n",
        "base_options = python.BaseOptions(model_asset_path='pose_landmarker.task')\n",
        "options = vision.PoseLandmarkerOptions(\n",
        "    base_options=base_options,\n",
        "    output_segmentation_masks=True)\n",
        "detector = vision.PoseLandmarker.create_from_options(options)\n",
        "\n",
        "# STEP 3: Load the input image.\n",
        "image = mp.Image.create_from_file(\"image.jpg\")\n",
        "\n",
        "# STEP 4: Detect pose landmarks from the input image.\n",
        "detection_result = detector.detect(image)\n",
        "\n",
        "# STEP 5: Process the detection result. In this case, visualize it.\n",
        "annotated_image = draw_landmarks_on_image(image.numpy_view(), detection_result)\n",
        "cv2.imshow(\"annotated\", cv2.cvtColor(annotated_image, cv2.COLOR_RGB2BGR)) # changed by Josh\n",
        "cv2.waitKey(0) # changed by Josh\n",
        "cv2.destroyAllWindows() # changed by Josh"
      ]
    },
    {
      "cell_type": "markdown",
      "metadata": {
        "id": "_BwzFvaxwtPX"
      },
      "source": [
        "Visualize the pose segmentation mask."
      ]
    },
    {
      "cell_type": "code",
      "execution_count": null,
      "metadata": {
        "id": "3jAIFzw9M3JJ"
      },
      "outputs": [],
      "source": [
        "segmentation_mask = detection_result.segmentation_masks[0].numpy_view()\n",
        "visualized_mask = np.repeat(segmentation_mask[:, :, np.newaxis], 3, axis=2) * 255\n",
        "cv2.imshow(\"mask\", visualized_mask)\n",
        "cv2.waitKey(0) # changed by Josh\n",
        "cv2.destroyAllWindows() # changed by Josh"
      ]
    }
  ],
  "metadata": {
    "colab": {
      "provenance": []
    },
    "kernelspec": {
      "display_name": "Python 3 (ipykernel)",
      "language": "python",
      "name": "python3"
    },
    "language_info": {
      "codemirror_mode": {
        "name": "ipython",
        "version": 3
      },
      "file_extension": ".py",
      "mimetype": "text/x-python",
      "name": "python",
      "nbconvert_exporter": "python",
      "pygments_lexer": "ipython3",
      "version": "3.11.5"
    }
  },
  "nbformat": 4,
  "nbformat_minor": 0
}
