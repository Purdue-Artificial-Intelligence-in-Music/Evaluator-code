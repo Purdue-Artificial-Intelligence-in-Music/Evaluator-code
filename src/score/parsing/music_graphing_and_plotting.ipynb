{
 "cells": [
  {
   "cell_type": "code",
   "execution_count": 2,
   "metadata": {},
   "outputs": [],
   "source": [
    "from music21 import *"
   ]
  },
  {
   "cell_type": "code",
   "execution_count": 6,
   "metadata": {},
   "outputs": [
    {
     "data": {
      "text/plain": [
       "<music21.key.Key of B- major>"
      ]
     },
     "execution_count": 6,
     "metadata": {},
     "output_type": "execute_result"
    }
   ],
   "source": [
    "\n",
    "\n",
    "verdi = corpus.parse('verdi/laDonnaEMobile')\n",
    "verdi.id = 'verdi'\n",
    "verdi.measures(1, 10).show(fmt = 'musicxml')\n",
    "m = verdi.measures(1,3)\n",
    "m.analyze('key')"
   ]
  }
 ],
 "metadata": {
  "kernelspec": {
   "display_name": "Python 3.11.5 ('AIM')",
   "language": "python",
   "name": "python3"
  },
  "language_info": {
   "codemirror_mode": {
    "name": "ipython",
    "version": 3
   },
   "file_extension": ".py",
   "mimetype": "text/x-python",
   "name": "python",
   "nbconvert_exporter": "python",
   "pygments_lexer": "ipython3",
   "version": "3.11.7"
  },
  "orig_nbformat": 4,
  "vscode": {
   "interpreter": {
    "hash": "53801702708ef5feade50f5b990fe842f9a36cd71e3880a265f4185c1cf63833"
   }
  }
 },
 "nbformat": 4,
 "nbformat_minor": 2
}
