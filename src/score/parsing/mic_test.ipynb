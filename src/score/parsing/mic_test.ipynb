{
 "cells": [
  {
   "cell_type": "code",
   "execution_count": 5,
   "metadata": {},
   "outputs": [],
   "source": [
    "from music21 import *\n",
    "import numpy\n",
    "import pandas as pd\n",
    "from music21 import audioSearch as audioSearchBase"
   ]
  },
  {
   "cell_type": "code",
   "execution_count": 7,
   "metadata": {},
   "outputs": [],
   "source": [
    "def runTranscribe(show, plot, useMic, audioFile,\n",
    "                  seconds, useScale, saveFile):\n",
    "    '''\n",
    "    runs all the methods to record from audio for `seconds` length (default 10.0)\n",
    "    and transcribe the resulting melody returning a music21.Score object\n",
    "    \n",
    "    if `show` is True, show the stream.  \n",
    "    \n",
    "    if `plot` is True then a Tk graph of the frequencies will be displayed.\n",
    "\n",
    "    'audioFile' is a filepath to recorded audio to use instead of the mic if usemic is false\n",
    "    \n",
    "    if `useMic` is True then use the microphone.  If False it will load the file of `saveFile`\n",
    "    or the default temp file to run transcriptions from.\n",
    "        \n",
    "    a different scale besides the chromatic scale can be specified by setting `useScale`.\n",
    "    See :ref:`moduleScale` for a list of allowable scales. (or a custom one can be given).\n",
    "    Microtonal scales are totally accepted, as are retuned scales where A != 440hz.\n",
    "\n",
    "    if `saveFile` is False then then the recorded audio is saved to disk.  If\n",
    "    set to `True` then `environLocal.getRootTempDir() + os.path.sep + 'ex.wav'` is\n",
    "    used as the filename.  If set to anything else then it will use that as the\n",
    "    filename. \n",
    "    '''\n",
    "\n",
    "    if useScale is None:\n",
    "        useScale = scale.ChromaticScale('C4')\n",
    "    #beginning - recording or not\n",
    "    if saveFile == True:\n",
    "        WAVE_FILENAME = 'score.mxl'\n",
    "    \n",
    "    # the rest of the score\n",
    "    if useMic is True:\n",
    "        freqFromAQList = audioSearchBase.getFrequenciesFromMicrophone(length=seconds, storeWaveFilename=WAVE_FILENAME)\n",
    "    else:\n",
    "        freqFromAQList = audioSearchBase.getFrequenciesFromAudioFile(waveFilename=audioFile)\n",
    "        \n",
    "    detectedPitchesFreq = audioSearchBase.detectPitchFrequencies(freqFromAQList, useScale)\n",
    "    detectedPitchesFreq = audioSearchBase.smoothFrequencies(detectedPitchesFreq)\n",
    "    (detectedPitchObjects, listplot) = audioSearchBase.pitchFrequenciesToObjects(detectedPitchesFreq, useScale)\n",
    "    (notesList, durationList) = audioSearchBase.joinConsecutiveIdenticalPitches(detectedPitchObjects)\n",
    "    myScore, unused_length_part = audioSearchBase.notesAndDurationsToStream(notesList, durationList, removeRestsAtBeginning=True)    \n",
    "\n",
    "    # This shows the score in MuseScore\n",
    "    if show == True:\n",
    "        myScore.show()        \n",
    "    \n",
    "    if plot == True:\n",
    "        try:\n",
    "            import matplotlib.pyplot # for find\n",
    "        except ImportError:\n",
    "            raise audioSearchBase.AudioSearchException(\"Cannot plot without matplotlib installed.\")\n",
    "        matplotlib.pyplot.plot(listplot)\n",
    "        matplotlib.pyplot.show()\n",
    "    print(\"END\")    \n",
    "        \n",
    "    return myScore\n",
    "\n"
   ]
  },
  {
   "cell_type": "code",
   "execution_count": 59,
   "metadata": {},
   "outputs": [],
   "source": [
    "\n",
    "# NOTE: This does not account for changing tempo (like the example does --> So it is wrong...) but it is not a hard fix.\n",
    "\n",
    "def scoreToDataFrame(score):\n",
    "    \n",
    "    if type(score) != stream.PartStaff: #seems to be some differences between PartStaff and Part score types.\n",
    "        return\n",
    "    \n",
    "    dur_beats_list = []\n",
    "    dur_seconds_list = []\n",
    "    freq_list = []\n",
    "    name_list = []\n",
    "    start_time_list = []\n",
    "\n",
    "    length = score.metronomeMarkBoundaries()[0][2].numberSounding #quarter notes per minute \n",
    "    if length == None:\n",
    "        length = score.metronomeMarkBoundaries()[0][2].number\n",
    "    #Note, this up to offset 420.\n",
    "    qps = 60 / int(length) #quarter notes per second\n",
    "    \n",
    "    \n",
    "    content = score.getElementsByClass('Measure')\n",
    "    \n",
    "    for measure in content:\n",
    "        for n in measure.notesAndRests:\n",
    "            print(n)\n",
    "            if (type(n) == chord.Chord):\n",
    "               \n",
    "                for my_note in n:\n",
    "                    #print(note)\n",
    "                    name = my_note.nameWithOctave\n",
    "                    freq = my_note.pitch.frequency\n",
    "                    dur_seconds = my_note.duration.quarterLength * qps\n",
    "                    dur_beats = my_note.duration.type\n",
    "                    start_time = (measure.offset + n.offset) * qps #in seconds\n",
    "                    # note: This is calculated differently than above because the measure.offset gives the offset of the beginning of the measure.\n",
    "                    \n",
    "                    dur_beats_list.append(dur_beats)\n",
    "                    dur_seconds_list.append(dur_seconds)\n",
    "                    name_list.append(name)\n",
    "                    freq_list.append(freq)\n",
    "                    start_time_list.append(start_time)\n",
    "            elif (type(n) == note.Rest):\n",
    "                name = n.name\n",
    "                freq = 0\n",
    "                dur_seconds = n.duration.quarterLength * qps\n",
    "                dur_beats = n.duration.type\n",
    "                start_time = (measure.offset + n.offset) * qps\n",
    "                \n",
    "                dur_beats_list.append(dur_beats)\n",
    "                dur_seconds_list.append(dur_seconds)\n",
    "                name_list.append(name)\n",
    "                freq_list.append(freq)\n",
    "                start_time_list.append(start_time)\n",
    "            else:\n",
    "                print(type(n))\n",
    "    dict_temp = {'Duration in Beats': dur_beats_list, 'Duration in Seconds': dur_seconds_list, 'Name': name_list, 'Frequency': freq_list, 'Start Time in Seconds': start_time_list}\n",
    "    df = pd.DataFrame(data=dict_temp)\n",
    "    \n",
    "    return df"
   ]
  },
  {
   "cell_type": "code",
   "execution_count": 10,
   "metadata": {},
   "outputs": [
    {
     "data": {
      "image/png": "[encoded data removed]",
      "text/plain": [
       "<IPython.core.display.Image object>"
      ]
     },
     "metadata": {
      "image/png": {
       "height": 156,
       "width": 570
      }
     },
     "output_type": "display_data"
    },
    {
     "name": "stdout",
     "output_type": "stream",
     "text": [
      "END\n"
     ]
    }
   ],
   "source": [
    "# This runs the function with specificed parameters\n",
    "# Output is based on playing eqt-major-sc.wav from my phone\n",
    "score = runTranscribe(show=True, plot=False, useMic=True, audioFile='',\n",
    "                  seconds=10.0, useScale=None, saveFile=True)"
   ]
  },
  {
   "cell_type": "code",
   "execution_count": 33,
   "metadata": {},
   "outputs": [
    {
     "data": {
      "text/html": [
       "<div>\n",
       "<style scoped>\n",
       "    .dataframe tbody tr th:only-of-type {\n",
       "        vertical-align: middle;\n",
       "    }\n",
       "\n",
       "    .dataframe tbody tr th {\n",
       "        vertical-align: top;\n",
       "    }\n",
       "\n",
       "    .dataframe thead th {\n",
       "        text-align: right;\n",
       "    }\n",
       "</style>\n",
       "<table border=\"1\" class=\"dataframe\">\n",
       "  <thead>\n",
       "    <tr style=\"text-align: right;\">\n",
       "      <th></th>\n",
       "      <th>Duration in Beats</th>\n",
       "      <th>Duration in Seconds</th>\n",
       "      <th>Name</th>\n",
       "      <th>Frequency</th>\n",
       "      <th>Start Time in Seconds</th>\n",
       "    </tr>\n",
       "  </thead>\n",
       "  <tbody>\n",
       "  </tbody>\n",
       "</table>\n",
       "</div>"
      ],
      "text/plain": [
       "Empty DataFrame\n",
       "Columns: [Duration in Beats, Duration in Seconds, Name, Frequency, Start Time in Seconds]\n",
       "Index: []"
      ]
     },
     "execution_count": 33,
     "metadata": {},
     "output_type": "execute_result"
    }
   ],
   "source": [
    "hold = score.chordify()\n",
    "\n",
    "#score\n",
    "#print(score.length)"
   ]
  },
  {
   "cell_type": "code",
   "execution_count": 39,
   "metadata": {},
   "outputs": [
    {
     "name": "stdout",
     "output_type": "stream",
     "text": [
      "<music21.metadata.Metadata object at 0x1a92a290d50>\n",
      "<music21.chord.Chord C3>\n",
      "<music21.note.Rest quarter>\n",
      "<music21.chord.Chord E-2>\n",
      "<music21.note.Rest eighth>\n",
      "<music21.chord.Chord E-2>\n"
     ]
    }
   ],
   "source": [
    "for h in hold.flatten():\n",
    "    print(h)"
   ]
  },
  {
   "cell_type": "code",
   "execution_count": 53,
   "metadata": {},
   "outputs": [
    {
     "data": {
      "text/plain": [
       "<music21.stream.Part 0x1a92a2dc2d0>"
      ]
     },
     "execution_count": 53,
     "metadata": {},
     "output_type": "execute_result"
    }
   ],
   "source": [
    "hold"
   ]
  },
  {
   "cell_type": "code",
   "execution_count": 60,
   "metadata": {},
   "outputs": [],
   "source": [
    "scoreToDataFrame(hold)"
   ]
  },
  {
   "cell_type": "code",
   "execution_count": 34,
   "metadata": {},
   "outputs": [],
   "source": [
    "hold.show(fmt=\"musicxml\")"
   ]
  }
 ],
 "metadata": {
  "kernelspec": {
   "display_name": "vip2",
   "language": "python",
   "name": "python3"
  },
  "language_info": {
   "codemirror_mode": {
    "name": "ipython",
    "version": 3
   },
   "file_extension": ".py",
   "mimetype": "text/x-python",
   "name": "python",
   "nbconvert_exporter": "python",
   "pygments_lexer": "ipython3",
   "version": "3.11.7"
  }
 },
 "nbformat": 4,
 "nbformat_minor": 2
}
