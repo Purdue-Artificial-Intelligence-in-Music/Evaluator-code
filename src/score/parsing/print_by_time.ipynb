{
 "cells": [
  {
   "cell_type": "code",
   "execution_count": 2,
   "metadata": {},
   "outputs": [],
   "source": [
    "from music21 import *\n",
    "import math\n",
    "import os\n",
    "import time"
   ]
  },
  {
   "cell_type": "code",
   "execution_count": 3,
   "metadata": {},
   "outputs": [
    {
     "data": {
      "text/plain": [
       "0.625"
      ]
     },
     "execution_count": 3,
     "metadata": {},
     "output_type": "execute_result"
    }
   ],
   "source": [
    "#get tempo\n",
    "score = corpus.parse('bwv66.6')\n",
    "s = str(score.metronomeMarkBoundaries()[1][2])[28:40]\n",
    "result = ''.join([i for i in s if i.isdigit()])\n",
    "length = 60 / int(result)\n",
    "length"
   ]
  },
  {
   "cell_type": "code",
   "execution_count": 4,
   "metadata": {},
   "outputs": [
    {
     "name": "stdout",
     "output_type": "stream",
     "text": [
      "9\n"
     ]
    }
   ],
   "source": [
    "#find number of measures\n",
    "beats = score.getTimeSignatures(recurse=False)[0].denominator\n",
    "\n",
    "measures = int(score.highestTime / beats)\n",
    "print(measures)"
   ]
  },
  {
   "cell_type": "code",
   "execution_count": 5,
   "metadata": {},
   "outputs": [
    {
     "data": {
      "text/plain": [
       "[[1.0, 1.0, 1.0, 1.0],\n",
       " [1.0, 1.0, 1.0, 1.0],\n",
       " [0.5, 0.5, 1.0, 1.0, 1.0],\n",
       " [1.0, 1.0, 1.0, 1.0],\n",
       " [1.0, 1.0, 1.0, 1.0],\n",
       " [1.0, 1.0, 1.0, 1.0],\n",
       " [1.0, 1.0, 2.0],\n",
       " [2.0, 1.0, 1.0]]"
      ]
     },
     "execution_count": 5,
     "metadata": {},
     "output_type": "execute_result"
    }
   ],
   "source": [
    "#get tempo of each note in each measure\n",
    "durations = []\n",
    "for i in range(1, measures, 1):\n",
    "    measure = score.parts[0].measure(i).notes\n",
    "    lengths = []\n",
    "    for j in range(0, len(measure)):\n",
    "        s = str(measure[j].duration)[27:40]\n",
    "        s = ''.join([i for i in s if i.isdigit() or i == '.'])\n",
    "        lengths.append(float(s))\n",
    "    durations.append(lengths)\n",
    "durations"
   ]
  },
  {
   "cell_type": "code",
   "execution_count": 6,
   "metadata": {},
   "outputs": [
    {
     "data": {
      "text/plain": [
       "[[0.625, 0.625, 0.625, 0.625],\n",
       " [0.625, 0.625, 0.625, 0.625],\n",
       " [0.3125, 0.3125, 0.625, 0.625, 0.625],\n",
       " [0.625, 0.625, 0.625, 0.625],\n",
       " [0.625, 0.625, 0.625, 0.625],\n",
       " [0.625, 0.625, 0.625, 0.625],\n",
       " [0.625, 0.625, 1.25],\n",
       " [1.25, 0.625, 0.625]]"
      ]
     },
     "execution_count": 6,
     "metadata": {},
     "output_type": "execute_result"
    }
   ],
   "source": [
    "#convert tempo into second duration\n",
    "for i in range(0, len(durations)):\n",
    "    for j in range(0, len(durations[i])):\n",
    "        durations[i][j] *= length\n",
    "durations"
   ]
  },
  {
   "cell_type": "code",
   "execution_count": 7,
   "metadata": {},
   "outputs": [
    {
     "data": {
      "text/plain": [
       "[['A', 'B', 'C#', 'E'],\n",
       " ['C#', 'B', 'A', 'C#'],\n",
       " ['A', 'B', 'G#', 'F#', 'A'],\n",
       " ['B', 'B', 'F#', 'E'],\n",
       " ['A', 'B', 'C#', 'C#'],\n",
       " ['A', 'B', 'C#', 'A'],\n",
       " ['G#', 'F#', 'G#'],\n",
       " ['F#', 'F#', 'F#']]"
      ]
     },
     "execution_count": 7,
     "metadata": {},
     "output_type": "execute_result"
    }
   ],
   "source": [
    "#get notes in a measure\n",
    "measure_notes = []\n",
    "for i in range(1, measures, 1):\n",
    "    measure = score.parts[0].measure(i).notes\n",
    "    notes = []\n",
    "    for j in range(0,len(measure)):\n",
    "        s = str(measure[j])[19:21]\n",
    "        s = ''.join([i for i in s if i != '>'])\n",
    "        notes.append(s)\n",
    "    measure_notes.append(notes)\n",
    "measure_notes"
   ]
  },
  {
   "cell_type": "code",
   "execution_count": 8,
   "metadata": {},
   "outputs": [
    {
     "name": "stdout",
     "output_type": "stream",
     "text": [
      "Note: A Time: 0.692138671875\n",
      "Note: B Time: 0.6259126663208008\n",
      "Note: C# Time: 0.6260378360748291\n",
      "Note: E Time: 0.6256422996520996\n",
      "Note: C# Time: 0.625495433807373\n",
      "Note: B Time: 0.6256508827209473\n",
      "Note: A Time: 0.6256833076477051\n",
      "Note: C# Time: 0.6256718635559082\n",
      "Note: A Time: 0.3128321170806885\n",
      "Note: B Time: 0.3135819435119629\n",
      "Note: G# Time: 0.6255197525024414\n",
      "Note: F# Time: 0.6258320808410645\n",
      "Note: A Time: 0.625699520111084\n",
      "Note: B Time: 0.6254518032073975\n",
      "Note: B Time: 0.6256933212280273\n",
      "Note: F# Time: 0.6256072521209717\n",
      "Note: E Time: 0.625709056854248\n",
      "Note: A Time: 0.6252989768981934\n",
      "Note: B Time: 0.6257820129394531\n",
      "Note: C# Time: 0.625713586807251\n",
      "Note: C# Time: 0.6256673336029053\n",
      "Note: A Time: 0.6257548332214355\n",
      "Note: B Time: 0.6257123947143555\n",
      "Note: C# Time: 0.6255321502685547\n",
      "Note: A Time: 0.6252131462097168\n",
      "Note: G# Time: 0.6258478164672852\n"
     ]
    },
    {
     "ename": "KeyboardInterrupt",
     "evalue": "",
     "output_type": "error",
     "traceback": [
      "\u001b[1;31m---------------------------------------------------------------------------\u001b[0m",
      "\u001b[1;31mKeyboardInterrupt\u001b[0m                         Traceback (most recent call last)",
      "Cell \u001b[1;32mIn[8], line 4\u001b[0m\n\u001b[0;32m      2\u001b[0m \u001b[39mfor\u001b[39;00m i \u001b[39min\u001b[39;00m \u001b[39mrange\u001b[39m(\u001b[39m0\u001b[39m,\u001b[39mlen\u001b[39m(measure_notes)):\n\u001b[0;32m      3\u001b[0m     \u001b[39mfor\u001b[39;00m j \u001b[39min\u001b[39;00m \u001b[39mrange\u001b[39m(\u001b[39m0\u001b[39m,\u001b[39mlen\u001b[39m(measure_notes[i])):\n\u001b[1;32m----> 4\u001b[0m         time\u001b[39m.\u001b[39msleep(durations[i][j])\n\u001b[0;32m      5\u001b[0m         end \u001b[39m=\u001b[39m time\u001b[39m.\u001b[39mtime()\n\u001b[0;32m      6\u001b[0m         elapsed \u001b[39m=\u001b[39m end \u001b[39m-\u001b[39m start\n",
      "\u001b[1;31mKeyboardInterrupt\u001b[0m: "
     ]
    }
   ],
   "source": [
    "start = time.time()\n",
    "for i in range(0,len(measure_notes)):\n",
    "    for j in range(0,len(measure_notes[i])):\n",
    "        time.sleep(durations[i][j])\n",
    "        end = time.time()\n",
    "        elapsed = end - start\n",
    "        print(f'Note: {measure_notes[i][j]} Time: {elapsed}')\n",
    "        start = end\n",
    "        "
   ]
  }
 ],
 "metadata": {
  "kernelspec": {
   "display_name": "Python 3.11.5 ('AIM')",
   "language": "python",
   "name": "python3"
  },
  "language_info": {
   "codemirror_mode": {
    "name": "ipython",
    "version": 3
   },
   "file_extension": ".py",
   "mimetype": "text/x-python",
   "name": "python",
   "nbconvert_exporter": "python",
   "pygments_lexer": "ipython3",
   "version": "3.11.5"
  },
  "orig_nbformat": 4,
  "vscode": {
   "interpreter": {
    "hash": "53801702708ef5feade50f5b990fe842f9a36cd71e3880a265f4185c1cf63833"
   }
  }
 },
 "nbformat": 4,
 "nbformat_minor": 2
}
