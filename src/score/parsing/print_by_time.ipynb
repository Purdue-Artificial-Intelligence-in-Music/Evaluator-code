{
 "cells": [
  {
   "cell_type": "code",
   "execution_count": 2,
   "metadata": {},
   "outputs": [],
   "source": [
    "from music21 import *\n",
    "import math\n",
    "import os\n",
    "import time"
   ]
  },
  {
   "cell_type": "code",
   "execution_count": 5,
   "metadata": {},
   "outputs": [
    {
     "data": {
      "text/plain": [
       "0.625"
      ]
     },
     "execution_count": 5,
     "metadata": {},
     "output_type": "execute_result"
    }
   ],
   "source": [
    "#get tempo\n",
    "score = corpus.parse('bwv66.6')\n",
    "# s = str(score.metronomeMarkBoundaries()[1][2])[28:40]\n",
    "# result = ''.join([i for i in s if i.isdigit()])\n",
    "\n",
    "length = score.metronomeMarkBoundaries()[0][2].numberSounding\n",
    "length = 60 / int(length)\n",
    "length"
   ]
  },
  {
   "cell_type": "code",
   "execution_count": 6,
   "metadata": {},
   "outputs": [],
   "source": [
    "score.show(fmt = 'musicxml')    "
   ]
  },
  {
   "cell_type": "code",
   "execution_count": 16,
   "metadata": {},
   "outputs": [
    {
     "name": "stdout",
     "output_type": "stream",
     "text": [
      "9\n"
     ]
    }
   ],
   "source": [
    "#find number of measures\n",
    "beats = score.getTimeSignatures(recurse=False)[0].denominator\n",
    "\n",
    "measures = int(score.highestTime / beats)\n",
    "print(measures)"
   ]
  },
  {
   "cell_type": "code",
   "execution_count": 21,
   "metadata": {},
   "outputs": [
    {
     "data": {
      "text/plain": [
       "[[1.0, 1.0, 1.0, 1.0],\n",
       " [1.0, 1.0, 1.0, 1.0],\n",
       " [0.5, 0.5, 1.0, 1.0, 1.0],\n",
       " [1.0, 1.0, 1.0, 1.0],\n",
       " [1.0, 1.0, 1.0, 1.0],\n",
       " [1.0, 1.0, 1.0, 1.0],\n",
       " [1.0, 1.0, 2.0],\n",
       " [2.0, 1.0, 1.0]]"
      ]
     },
     "execution_count": 21,
     "metadata": {},
     "output_type": "execute_result"
    }
   ],
   "source": [
    "#get tempo of each note in each measure\n",
    "durations = []\n",
    "for i in range(1, measures, 1):\n",
    "    measure = score.parts[0].measure(i).notes\n",
    "    lengths = []\n",
    "    for j in range(0, len(measure)):\n",
    "        s = str(measure[j].duration.quarterLength)\n",
    "        # s = ''.join([i for i in s if i.isdigit() or i == '.'])\n",
    "        lengths.append(float(s))\n",
    "    durations.append(lengths)\n",
    "durations"
   ]
  },
  {
   "cell_type": "code",
   "execution_count": 6,
   "metadata": {},
   "outputs": [
    {
     "data": {
      "text/plain": [
       "[[0.625, 0.625, 0.625, 0.625],\n",
       " [0.625, 0.625, 0.625, 0.625],\n",
       " [0.3125, 0.3125, 0.625, 0.625, 0.625],\n",
       " [0.625, 0.625, 0.625, 0.625],\n",
       " [0.625, 0.625, 0.625, 0.625],\n",
       " [0.625, 0.625, 0.625, 0.625],\n",
       " [0.625, 0.625, 1.25],\n",
       " [1.25, 0.625, 0.625]]"
      ]
     },
     "execution_count": 6,
     "metadata": {},
     "output_type": "execute_result"
    }
   ],
   "source": [
    "#convert tempo into second duration\n",
    "for i in range(0, len(durations)):\n",
    "    for j in range(0, len(durations[i])):\n",
    "        durations[i][j] *= length\n",
    "durations"
   ]
  },
  {
   "cell_type": "code",
   "execution_count": 32,
   "metadata": {},
   "outputs": [
    {
     "data": {
      "text/plain": [
       "[['A4', 'B4', 'C♯5', 'E5'],\n",
       " ['C♯5', 'B4', 'A4', 'C♯5'],\n",
       " ['A4', 'B4', 'G♯4', 'F♯4', 'A4'],\n",
       " ['B4', 'B4', 'F♯4', 'E4'],\n",
       " ['A4', 'B4', 'C♯5', 'C♯5'],\n",
       " ['A4', 'B4', 'C♯5', 'A4'],\n",
       " ['G♯4', 'F♯4', 'G♯4'],\n",
       " ['F♯4', 'F♯4', 'F♯4']]"
      ]
     },
     "execution_count": 32,
     "metadata": {},
     "output_type": "execute_result"
    }
   ],
   "source": [
    "#get notes in a measure\n",
    "measure_notes = []\n",
    "for i in range(1, measures, 1):\n",
    "    measure = score.parts[0].measure(i).notes\n",
    "    notes = []\n",
    "    for j in range(0,len(measure)):\n",
    "        s = measure[j].pitch.unicodeNameWithOctave\n",
    "        # s = str(measure[j])[19:21]\n",
    "        # s = ''.join([i for i in s if i != '>'])\n",
    "        notes.append(s)\n",
    "    measure_notes.append(notes)\n",
    "measure_notes"
   ]
  },
  {
   "cell_type": "code",
   "execution_count": 36,
   "metadata": {},
   "outputs": [
    {
     "data": {
      "text/plain": [
       "[[['A4', 'B4', 'C♯5', 'E5'], [1.0, 1.0, 1.0, 1.0]],\n",
       " [['C♯5', 'B4', 'A4', 'C♯5'], [1.0, 1.0, 1.0, 1.0]],\n",
       " [['A4', 'B4', 'G♯4', 'F♯4', 'A4'], [0.5, 0.5, 1.0, 1.0, 1.0]],\n",
       " [['B4', 'B4', 'F♯4', 'E4'], [1.0, 1.0, 1.0, 1.0]],\n",
       " [['A4', 'B4', 'C♯5', 'C♯5'], [1.0, 1.0, 1.0, 1.0]],\n",
       " [['A4', 'B4', 'C♯5', 'A4'], [1.0, 1.0, 1.0, 1.0]],\n",
       " [['G♯4', 'F♯4', 'G♯4'], [1.0, 1.0, 2.0]],\n",
       " [['F♯4', 'F♯4', 'F♯4'], [2.0, 1.0, 1.0]]]"
      ]
     },
     "execution_count": 36,
     "metadata": {},
     "output_type": "execute_result"
    }
   ],
   "source": [
    "notes_and_durations = []\n",
    "for i in range(0, len(measure_notes)):\n",
    "    temp = [measure_notes[i],durations[i]]\n",
    "    notes_and_durations.append(temp)\n",
    "notes_and_durations"
   ]
  },
  {
   "cell_type": "code",
   "execution_count": 40,
   "metadata": {},
   "outputs": [
    {
     "name": "stdout",
     "output_type": "stream",
     "text": [
      "Note: A4 Time: 1.0013542175292969\n",
      "Note: B4 Time: 1.0006098747253418\n",
      "Note: C♯5 Time: 1.001117467880249\n",
      "Note: E5 Time: 1.0006992816925049\n",
      "Note: C♯5 Time: 1.0012497901916504\n",
      "Note: B4 Time: 1.001262903213501\n",
      "Note: A4 Time: 1.0004427433013916\n",
      "Note: C♯5 Time: 1.000964879989624\n",
      "Note: A4 Time: 0.5006546974182129\n",
      "Note: B4 Time: 0.5007874965667725\n",
      "Note: G♯4 Time: 1.0008535385131836\n",
      "Note: F♯4 Time: 1.0011653900146484\n",
      "Note: A4 Time: 1.0007100105285645\n"
     ]
    },
    {
     "ename": "KeyboardInterrupt",
     "evalue": "",
     "output_type": "error",
     "traceback": [
      "\u001b[1;31m---------------------------------------------------------------------------\u001b[0m",
      "\u001b[1;31mKeyboardInterrupt\u001b[0m                         Traceback (most recent call last)",
      "Cell \u001b[1;32mIn[40], line 6\u001b[0m\n\u001b[0;32m      4\u001b[0m \u001b[39mfor\u001b[39;00m j \u001b[39min\u001b[39;00m \u001b[39mrange\u001b[39m(\u001b[39m0\u001b[39m,\u001b[39mlen\u001b[39m(notes_and_durations[i][\u001b[39m0\u001b[39m])):\n\u001b[0;32m      5\u001b[0m     start \u001b[39m=\u001b[39m end\n\u001b[1;32m----> 6\u001b[0m     time\u001b[39m.\u001b[39msleep(notes_and_durations[i][\u001b[39m1\u001b[39m][j])\n\u001b[0;32m      7\u001b[0m     end \u001b[39m=\u001b[39m time\u001b[39m.\u001b[39mtime() \u001b[39m#wait duration before printing next note\u001b[39;00m\n\u001b[0;32m      8\u001b[0m     elapsed \u001b[39m=\u001b[39m end \u001b[39m-\u001b[39m start \u001b[39m#find actual duration\u001b[39;00m\n",
      "\u001b[1;31mKeyboardInterrupt\u001b[0m: "
     ]
    }
   ],
   "source": [
    "start = 0\n",
    "end = time.time()\n",
    "for i in range(0,len(notes_and_durations)):\n",
    "    for j in range(0,len(notes_and_durations[i][0])):\n",
    "        start = end\n",
    "        time.sleep(notes_and_durations[i][1][j])\n",
    "        end = time.time() #wait duration before printing next note\n",
    "        elapsed = end - start #find actual duration\n",
    "        print(f'Note: {notes_and_durations[i][0][j]} Time: {elapsed}')\n",
    "        "
   ]
  }
 ],
 "metadata": {
  "kernelspec": {
   "display_name": "Python 3.11.5 ('AIM')",
   "language": "python",
   "name": "python3"
  },
  "language_info": {
   "codemirror_mode": {
    "name": "ipython",
    "version": 3
   },
   "file_extension": ".py",
   "mimetype": "text/x-python",
   "name": "python",
   "nbconvert_exporter": "python",
   "pygments_lexer": "ipython3",
   "version": "3.11.7"
  },
  "orig_nbformat": 4,
  "vscode": {
   "interpreter": {
    "hash": "53801702708ef5feade50f5b990fe842f9a36cd71e3880a265f4185c1cf63833"
   }
  }
 },
 "nbformat": 4,
 "nbformat_minor": 2
}
