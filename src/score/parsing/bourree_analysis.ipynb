{
 "cells": [
  {
   "cell_type": "code",
   "execution_count": 69,
   "metadata": {},
   "outputs": [],
   "source": [
    "from music21 import *\n",
    "import math\n",
    "import os\n",
    "import time"
   ]
  },
  {
   "cell_type": "code",
   "execution_count": 92,
   "metadata": {},
   "outputs": [],
   "source": [
    "#import score\n",
    "score = converter.parse('./bourree.xml')\n",
    "score.show('musicxml')"
   ]
  },
  {
   "cell_type": "code",
   "execution_count": 71,
   "metadata": {},
   "outputs": [
    {
     "data": {
      "text/plain": [
       "0.5217391304347826"
      ]
     },
     "execution_count": 71,
     "metadata": {},
     "output_type": "execute_result"
    }
   ],
   "source": [
    "#set own tempo in seconds\n",
    "\n",
    "mm = tempo.MetronomeMark('Allegretto', 115)\n",
    "bpm = mm.number\n",
    "length = 60 / int(bpm)\n",
    "length\n"
   ]
  },
  {
   "cell_type": "code",
   "execution_count": 72,
   "metadata": {},
   "outputs": [
    {
     "name": "stdout",
     "output_type": "stream",
     "text": [
      "10\n"
     ]
    }
   ],
   "source": [
    "#find number of measures\n",
    "beats = score.getTimeSignatures(recurse=False)[0].denominator\n",
    "\n",
    "measures = int(math.ceil(score.highestTime / beats))\n",
    "print(measures)"
   ]
  },
  {
   "cell_type": "code",
   "execution_count": 73,
   "metadata": {},
   "outputs": [
    {
     "data": {
      "text/plain": [
       "[[1.0],\n",
       " [1.0, 1.0, 0.5, 0.5, 0.5, 0.5],\n",
       " [1.0, 2.0, 0.5, 0.5],\n",
       " [1.0, 0.5, 0.5, 0.5, 0.5, 0.5, 0.5],\n",
       " [1.0, 2.0, 1.0],\n",
       " [0.5, 0.5, 0.5, 0.5, 0.5, 0.5, 0.5, 0.5],\n",
       " [0.5, 0.5, 0.5, 0.5, 0.5, 0.5, 0.5, 0.5],\n",
       " [0.5, 0.5, 1.0, 1.0, 1.0],\n",
       " [3.0, 0.5]]"
      ]
     },
     "execution_count": 73,
     "metadata": {},
     "output_type": "execute_result"
    }
   ],
   "source": [
    "#get tempo of each note in each measure\n",
    "durations = []\n",
    "for i in range(1, measures, 1):\n",
    "    measure = score.parts[0].measure(i).notes\n",
    "    lengths = []\n",
    "    for j in range(0, len(measure)):\n",
    "        s = str(measure[j].duration.quarterLength)\n",
    "        # s = ''.join([i for i in s if i.isdigit() or i == '.'])\n",
    "        lengths.append(float(s))\n",
    "    durations.append(lengths)\n",
    "durations"
   ]
  },
  {
   "cell_type": "code",
   "execution_count": 74,
   "metadata": {},
   "outputs": [],
   "source": [
    "#convert tempo into second duration\n",
    "# for i in range(0, len(durations)):\n",
    "#     for j in range(0, len(durations[i])):\n",
    "#         durations[i][j] *= length\n",
    "# durations"
   ]
  },
  {
   "cell_type": "code",
   "execution_count": 75,
   "metadata": {},
   "outputs": [
    {
     "data": {
      "text/plain": [
       "[['D5'],\n",
       " ['D5', 'B4', 'C5', 'B4', 'A4', 'G4'],\n",
       " ['E5', 'G5', 'F#5', 'E5'],\n",
       " ['D5', 'C5', 'B4', 'A4', 'B4', 'C5', 'A4'],\n",
       " ['B4', 'G4', 'A4'],\n",
       " ['B4', 'C#5', 'D5', 'B4', 'C#5', 'D5', 'E5', 'C#5'],\n",
       " ['D5', 'E5', 'F#5', 'D5', 'E5', 'F#5', 'G5', 'E5'],\n",
       " ['F#5', 'G5', 'A5', 'A4', 'C#5'],\n",
       " ['D5', 'D5']]"
      ]
     },
     "execution_count": 75,
     "metadata": {},
     "output_type": "execute_result"
    }
   ],
   "source": [
    "#get notes in a measure\n",
    "measure_notes = []\n",
    "for i in range(1, measures, 1):\n",
    "    measure = score.parts[0].measure(i).notes\n",
    "    notes = []\n",
    "    for j in range(0,len(measure)):\n",
    "        # s = measure[j].pitch.unicodeNameWithOctave\n",
    "        # s = str(measure[j])[19:21]\n",
    "        # s = ''.join([i for i in s if i != '>'])\n",
    "        # s = s.replace('♮', '-')\n",
    "        # s = s.replace('♯', '#')\n",
    "        s = str(measure[j].pitch.name)\n",
    "        s += str(measure[j].pitch.octave)\n",
    "        notes.append(s)\n",
    "    measure_notes.append(notes)\n",
    "measure_notes"
   ]
  },
  {
   "cell_type": "code",
   "execution_count": 76,
   "metadata": {},
   "outputs": [
    {
     "data": {
      "text/plain": [
       "[[['D5'], [1.0]],\n",
       " [['D5', 'B4', 'C5', 'B4', 'A4', 'G4'], [1.0, 1.0, 0.5, 0.5, 0.5, 0.5]],\n",
       " [['E5', 'G5', 'F#5', 'E5'], [1.0, 2.0, 0.5, 0.5]],\n",
       " [['D5', 'C5', 'B4', 'A4', 'B4', 'C5', 'A4'],\n",
       "  [1.0, 0.5, 0.5, 0.5, 0.5, 0.5, 0.5]],\n",
       " [['B4', 'G4', 'A4'], [1.0, 2.0, 1.0]],\n",
       " [['B4', 'C#5', 'D5', 'B4', 'C#5', 'D5', 'E5', 'C#5'],\n",
       "  [0.5, 0.5, 0.5, 0.5, 0.5, 0.5, 0.5, 0.5]],\n",
       " [['D5', 'E5', 'F#5', 'D5', 'E5', 'F#5', 'G5', 'E5'],\n",
       "  [0.5, 0.5, 0.5, 0.5, 0.5, 0.5, 0.5, 0.5]],\n",
       " [['F#5', 'G5', 'A5', 'A4', 'C#5'], [0.5, 0.5, 1.0, 1.0, 1.0]],\n",
       " [['D5', 'D5'], [3.0, 0.5]]]"
      ]
     },
     "execution_count": 76,
     "metadata": {},
     "output_type": "execute_result"
    }
   ],
   "source": [
    "notes_and_durations = []\n",
    "for i in range(0, len(measure_notes)):\n",
    "    temp = [measure_notes[i],durations[i]]\n",
    "    notes_and_durations.append(temp)\n",
    "notes_and_durations"
   ]
  },
  {
   "cell_type": "code",
   "execution_count": 86,
   "metadata": {},
   "outputs": [],
   "source": [
    "#create theoretical played file\n",
    "notes_and_durations_audio = [[['E5'], [1.0]], \n",
    "[['D5', 'B4', 'C#5', 'B4', 'A4', 'G4'], [1.0, 1.0, 0.5, 0.5, 0.5, 0.5]],\n",
    "[['E5', 'G5', 'F#5', 'E5'], [1.0, 2.0, 0.5, 0.5]],\n",
    " [['D5', 'C5', 'B4', 'A4', 'B4', 'C5', 'A4'],\n",
    "  [1.0, 0.5, 0.5, 0.5, 0.5, 0.5, 0.5]],\n",
    " [['B4', 'G4', 'A4'], [1.0, 2.0, 1.0]],\n",
    " [['B4', 'C#5', 'D5', 'B4', 'C#5', 'D5', 'E6', 'C#5'],\n",
    "  [0.5, 0.5, 0.5, 0.5, 0.5, 0.5, 0.5, 0.5]],\n",
    " [['D5', 'E5', 'F#5', 'F5', 'E5', 'F#5', 'G5', 'E5'],\n",
    "  [0.5, 0.5, 0.5, 0.5, 0.5, 0.5, 0.5, 0.5]],\n",
    " [['F#5', 'G5', 'B5', 'A4', 'C#5'], [0.5, 0.5, 1.0, 1.0, 1.0]],\n",
    " [['D5', 'D5'], [3.0, 0.5]]]"
   ]
  },
  {
   "cell_type": "code",
   "execution_count": 93,
   "metadata": {},
   "outputs": [],
   "source": [
    "#convert to score to display\n",
    "#notes_and_durations and notes_and_durations_audio\n",
    "\n",
    "\n",
    "bourree = stream.Stream() # initialize new stream\n",
    "\n",
    "r = note.Rest() # manually add rests\n",
    "bourree.repeatAppend(r, 3)\n",
    "\n",
    "# for each note and each length in the arrays\n",
    "for i in range(0, len(notes_and_durations)): \n",
    "    for j in range(0, len(notes_and_durations[i]),2):\n",
    "        for k in range(0, len(notes_and_durations[i][j])):\n",
    "            # compare to see if the correct note was played\n",
    "            if notes_and_durations[i][j][k] == notes_and_durations_audio[i][j][k]:\n",
    "                # if correct, just add singular note\n",
    "                note1 = note.Note(notes_and_durations[i][j][k], quarterLength = notes_and_durations[i][j + 1][k])\n",
    "                bourree.append(note1)\n",
    "            else:\n",
    "                #if incorrect, add correct note in green and wrong note in red\n",
    "                note_audio = note.Note(notes_and_durations_audio[i][j][k], quarterLength = notes_and_durations[i][j + 1][k])\n",
    "                note_audio.style.color = 'red'\n",
    "\n",
    "                note_correct = note.Note(notes_and_durations[i][j][k], quarterLength = notes_and_durations[i][j + 1][k])\n",
    "                note_correct.style.color = 'green'\n",
    "\n",
    "                chord1 = chord.Chord([note_correct, note_audio])\n",
    "                bourree.append(chord1)\n",
    "\n",
    "#display to user\n",
    "bourree.show('musicxml')\n"
   ]
  }
 ],
 "metadata": {
  "kernelspec": {
   "display_name": "Python 3.11.5 ('AIM')",
   "language": "python",
   "name": "python3"
  },
  "language_info": {
   "codemirror_mode": {
    "name": "ipython",
    "version": 3
   },
   "file_extension": ".py",
   "mimetype": "text/x-python",
   "name": "python",
   "nbconvert_exporter": "python",
   "pygments_lexer": "ipython3",
   "version": "3.11.5"
  },
  "orig_nbformat": 4,
  "vscode": {
   "interpreter": {
    "hash": "53801702708ef5feade50f5b990fe842f9a36cd71e3880a265f4185c1cf63833"
   }
  }
 },
 "nbformat": 4,
 "nbformat_minor": 2
}
