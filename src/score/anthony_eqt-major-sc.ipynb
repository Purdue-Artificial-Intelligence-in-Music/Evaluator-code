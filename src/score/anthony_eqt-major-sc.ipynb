{
 "cells": [
  {
   "cell_type": "code",
   "execution_count": 62,
   "metadata": {},
   "outputs": [],
   "source": [
    "import crepe\n",
    "from scipy.io import wavfile\n",
    "import numpy as np\n",
    "import librosa\n",
    "import pandas as pd"
   ]
  },
  {
   "cell_type": "code",
   "execution_count": 63,
   "metadata": {},
   "outputs": [],
   "source": [
    "sampling_rate, scale = wavfile.read(\"./wav/eqt-major-sc.wav\")"
   ]
  },
  {
   "cell_type": "code",
   "execution_count": 64,
   "metadata": {},
   "outputs": [
    {
     "name": "stdout",
     "output_type": "stream",
     "text": [
      "7/7 [==============================] - 14s 2s/step\n"
     ]
    }
   ],
   "source": [
    "time, frequency, confidence, activation = crepe.predict(scale, sampling_rate, viterbi=True, step_size = 30)\n",
    "a = np.column_stack((time, frequency, confidence))\n",
    "filtered_arr = a[np.where(a[:, 2] > 0.80)]"
   ]
  },
  {
   "cell_type": "code",
   "execution_count": 71,
   "metadata": {},
   "outputs": [
    {
     "data": {
      "text/plain": [
       "array([260.73777443, 262.66188551, 262.82224332, 262.11665989,\n",
       "       261.6904201 , 261.65128949, 262.03816537, 262.11971844,\n",
       "       261.68772067, 261.20976159, 260.70736982, 260.33309697,\n",
       "       260.48328295, 261.36540601, 262.29520018, 262.69272536,\n",
       "       262.10269604, 261.52348087, 261.26287362, 261.14254989,\n",
       "       261.53512586, 261.84595658, 261.86362089, 261.58670075,\n",
       "       261.74329589, 269.00172418, 292.44563581, 293.42481388,\n",
       "       293.80775771, 294.03241083, 293.31089804, 292.95345534,\n",
       "       293.30258694, 293.89770625, 294.29919048, 294.5456836 ,\n",
       "       294.44448044, 294.26148669, 294.2579073 , 294.15101001,\n",
       "       294.39888182, 294.67635933, 294.462572  , 294.05775079,\n",
       "       294.28882721, 294.8207466 , 295.1717564 , 295.49394122,\n",
       "       295.10221149, 294.65104726, 307.35783217, 330.20189436,\n",
       "       330.63137607, 329.80811469, 329.36833316, 329.41843537,\n",
       "       329.92546467, 329.70932194, 329.36956261, 328.96930966,\n",
       "       328.64879925, 328.61963343, 328.55197171, 329.20941392,\n",
       "       329.71904553, 329.76386132, 329.45523234, 328.50029204,\n",
       "       327.78443871, 327.87604043, 328.28759721, 329.09800599,\n",
       "       329.75057143, 330.35256679, 330.45578391, 338.16856996,\n",
       "       349.97206504, 349.69616848, 349.02706295, 348.17270765,\n",
       "       347.78601645, 348.5141209 , 349.22913672, 349.9338665 ,\n",
       "       350.0447993 , 349.31321613, 348.56185604, 348.15183218,\n",
       "       348.42168762, 349.13218793, 349.75414497, 349.38026689,\n",
       "       349.00810803, 348.20063589, 348.13052595, 348.77524967,\n",
       "       349.64381195, 350.02013351, 350.18457229, 350.02024632,\n",
       "       355.1690144 , 392.95198451, 393.18540185, 392.25017311,\n",
       "       391.25413852, 391.76070834, 392.86523962, 393.48265318,\n",
       "       393.83778098, 393.53040648, 393.0936084 , 392.19653026,\n",
       "       391.47307653, 391.8850485 , 393.15782014, 393.51933281,\n",
       "       392.31219522, 391.64646298, 391.80089519, 392.51664083,\n",
       "       393.231472  , 393.57354258, 393.64678205, 392.8880788 ,\n",
       "       392.55890665, 411.74998995, 439.92717791, 440.53769124,\n",
       "       440.50610225, 440.27660226, 439.36034566, 439.19991164,\n",
       "       439.77812904, 440.5576907 , 440.18990641, 439.47788895,\n",
       "       438.78824608, 438.75809092, 440.02556865, 441.72229074,\n",
       "       442.08964814, 441.04459002, 440.08933813, 439.64147281,\n",
       "       439.3667391 , 439.20961396, 439.56662083, 440.73302515,\n",
       "       441.00713257, 439.98831391, 486.06659283, 494.21100468,\n",
       "       493.75169452, 494.06755258, 495.07547121, 494.2771659 ,\n",
       "       493.2632126 , 494.11110645, 494.95469966, 494.3932858 ,\n",
       "       494.23580125, 493.93932208, 493.6960378 , 494.32056876,\n",
       "       494.43047774, 494.35066097, 494.72305522, 494.42022932,\n",
       "       493.71916756, 493.85004519, 493.4120595 , 493.55253544,\n",
       "       494.15567226, 494.05493196, 494.70840435, 525.15799242,\n",
       "       524.33557964, 525.24618669, 525.32505407, 525.2103372 ,\n",
       "       524.21063196, 524.13456541, 524.7746315 , 525.52729058,\n",
       "       526.07357478, 526.05911075, 525.25250645, 524.42047818,\n",
       "       524.87149768, 525.94878792, 526.13952011, 525.70447646,\n",
       "       524.78405641, 524.59749361, 524.97807758, 525.63434185,\n",
       "       525.90139167, 524.96733155, 523.84825993, 524.14342361,\n",
       "       527.13316297])"
      ]
     },
     "execution_count": 71,
     "metadata": {},
     "output_type": "execute_result"
    }
   ],
   "source": [
    "frequencies = a[:, 1]\n",
    "start_times = a[:, 0]\n",
    "frequencies"
   ]
  },
  {
   "cell_type": "code",
   "execution_count": 66,
   "metadata": {},
   "outputs": [],
   "source": [
    "note_names = []\n",
    "for freq in frequencies:\n",
    "    note_names.append(librosa.hz_to_note(freq))\n",
    "distinct_notes = sorted(set(note_names), key=note_names.index)"
   ]
  },
  {
   "cell_type": "code",
   "execution_count": 67,
   "metadata": {},
   "outputs": [],
   "source": [
    "curr_note = 0\n",
    "note_start_time = [0]\n",
    "distinct_frequencies = [frequencies[0]]\n",
    "j = 0\n",
    "while j < len(frequencies):\n",
    "    note = librosa.hz_to_note(frequencies[j])\n",
    "    if note == distinct_notes[curr_note]:\n",
    "        j += 1\n",
    "    else:\n",
    "        distinct_frequencies.append(frequencies[j])\n",
    "        note_start_time.append(start_times[j])\n",
    "        curr_note += 1\n",
    "        "
   ]
  },
  {
   "cell_type": "code",
   "execution_count": 68,
   "metadata": {},
   "outputs": [],
   "source": [
    "note_lengths = []\n",
    "for i in range(1, len(note_start_time)):\n",
    "    note_lengths.append(note_start_time[i] - note_start_time[i-1])\n",
    "note_lengths.append(start_times[-1] - note_start_time[-1])"
   ]
  },
  {
   "cell_type": "code",
   "execution_count": 69,
   "metadata": {},
   "outputs": [],
   "source": [
    "df = pd.DataFrame({'Note Duration': note_lengths, 'Note Name': distinct_notes,\n",
    "                   'Note Frequency': distinct_frequencies, 'Note Start Time': note_start_time})"
   ]
  },
  {
   "cell_type": "code",
   "execution_count": 70,
   "metadata": {},
   "outputs": [
    {
     "data": {
      "text/html": [
       "<div>\n",
       "<style scoped>\n",
       "    .dataframe tbody tr th:only-of-type {\n",
       "        vertical-align: middle;\n",
       "    }\n",
       "\n",
       "    .dataframe tbody tr th {\n",
       "        vertical-align: top;\n",
       "    }\n",
       "\n",
       "    .dataframe thead th {\n",
       "        text-align: right;\n",
       "    }\n",
       "</style>\n",
       "<table border=\"1\" class=\"dataframe\">\n",
       "  <thead>\n",
       "    <tr style=\"text-align: right;\">\n",
       "      <th></th>\n",
       "      <th>Note Duration</th>\n",
       "      <th>Note Name</th>\n",
       "      <th>Note Frequency</th>\n",
       "      <th>Note Start Time</th>\n",
       "    </tr>\n",
       "  </thead>\n",
       "  <tbody>\n",
       "    <tr>\n",
       "      <th>0</th>\n",
       "      <td>0.78</td>\n",
       "      <td>C4</td>\n",
       "      <td>260.737774</td>\n",
       "      <td>0.00</td>\n",
       "    </tr>\n",
       "    <tr>\n",
       "      <th>1</th>\n",
       "      <td>0.72</td>\n",
       "      <td>D4</td>\n",
       "      <td>292.445636</td>\n",
       "      <td>0.78</td>\n",
       "    </tr>\n",
       "    <tr>\n",
       "      <th>2</th>\n",
       "      <td>0.03</td>\n",
       "      <td>D♯4</td>\n",
       "      <td>307.357832</td>\n",
       "      <td>1.50</td>\n",
       "    </tr>\n",
       "    <tr>\n",
       "      <th>3</th>\n",
       "      <td>0.75</td>\n",
       "      <td>E4</td>\n",
       "      <td>330.201894</td>\n",
       "      <td>1.53</td>\n",
       "    </tr>\n",
       "    <tr>\n",
       "      <th>4</th>\n",
       "      <td>0.75</td>\n",
       "      <td>F4</td>\n",
       "      <td>349.972065</td>\n",
       "      <td>2.28</td>\n",
       "    </tr>\n",
       "    <tr>\n",
       "      <th>5</th>\n",
       "      <td>0.72</td>\n",
       "      <td>G4</td>\n",
       "      <td>392.951985</td>\n",
       "      <td>3.03</td>\n",
       "    </tr>\n",
       "    <tr>\n",
       "      <th>6</th>\n",
       "      <td>0.03</td>\n",
       "      <td>G♯4</td>\n",
       "      <td>411.749990</td>\n",
       "      <td>3.75</td>\n",
       "    </tr>\n",
       "    <tr>\n",
       "      <th>7</th>\n",
       "      <td>0.72</td>\n",
       "      <td>A4</td>\n",
       "      <td>439.927178</td>\n",
       "      <td>3.78</td>\n",
       "    </tr>\n",
       "    <tr>\n",
       "      <th>8</th>\n",
       "      <td>0.75</td>\n",
       "      <td>B4</td>\n",
       "      <td>486.066593</td>\n",
       "      <td>4.50</td>\n",
       "    </tr>\n",
       "    <tr>\n",
       "      <th>9</th>\n",
       "      <td>0.75</td>\n",
       "      <td>C5</td>\n",
       "      <td>525.157992</td>\n",
       "      <td>5.25</td>\n",
       "    </tr>\n",
       "  </tbody>\n",
       "</table>\n",
       "</div>"
      ],
      "text/plain": [
       "   Note Duration Note Name  Note Frequency  Note Start Time\n",
       "0           0.78        C4      260.737774             0.00\n",
       "1           0.72        D4      292.445636             0.78\n",
       "2           0.03       D♯4      307.357832             1.50\n",
       "3           0.75        E4      330.201894             1.53\n",
       "4           0.75        F4      349.972065             2.28\n",
       "5           0.72        G4      392.951985             3.03\n",
       "6           0.03       G♯4      411.749990             3.75\n",
       "7           0.72        A4      439.927178             3.78\n",
       "8           0.75        B4      486.066593             4.50\n",
       "9           0.75        C5      525.157992             5.25"
      ]
     },
     "execution_count": 70,
     "metadata": {},
     "output_type": "execute_result"
    }
   ],
   "source": [
    "df"
   ]
  },
  {
   "cell_type": "code",
   "execution_count": null,
   "metadata": {},
   "outputs": [],
   "source": []
  }
 ],
 "metadata": {
  "kernelspec": {
   "display_name": "Python 3",
   "language": "python",
   "name": "python3"
  },
  "language_info": {
   "codemirror_mode": {
    "name": "ipython",
    "version": 3
   },
   "file_extension": ".py",
   "mimetype": "text/x-python",
   "name": "python",
   "nbconvert_exporter": "python",
   "pygments_lexer": "ipython3",
   "version": "3.11.0"
  }
 },
 "nbformat": 4,
 "nbformat_minor": 2
}
