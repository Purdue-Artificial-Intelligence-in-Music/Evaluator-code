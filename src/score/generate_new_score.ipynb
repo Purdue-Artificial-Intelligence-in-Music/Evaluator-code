{
 "cells": [
  {
   "cell_type": "code",
   "execution_count": 1,
   "metadata": {},
   "outputs": [],
   "source": [
    "from music21 import *\n",
    "import pandas as pd\n",
    "import numpy as np"
   ]
  },
  {
   "cell_type": "code",
   "execution_count": null,
   "metadata": {},
   "outputs": [],
   "source": [
    "class AudioAnalysis:\n",
    "\n",
    "    def __init__(self, correct_df, input_df):\n",
    "        self.correct_df = correct_df\n",
    "        self.input_df = input_df\n",
    "\n",
    "    def compare_dataframe(self) -> pd.DataFrame:\n",
    "        correct_notes = self.correct_df['Note Name']\n",
    "        input_notes = self.input_df['Note Name']\n",
    "        is_correct = []\n",
    "        for i in range(len(correct_notes)):\n",
    "            if correct_notes[i] == input_notes[i]:\n",
    "                is_correct.append(True)\n",
    "            else:\n",
    "                is_correct.append(False)\n",
    "        new_df = self.correct_df\n",
    "        new_df.insert(3, \"Played Notes\", input_notes)\n",
    "        new_df.insert(4, \"Correct\", is_correct)\n",
    "        return new_df\n",
    "    \n",
    "    def generate_overlay_score(self):\n",
    "        df = self.compare_dataframe()\n",
    "        \n"
   ]
  }
 ],
 "metadata": {
  "kernelspec": {
   "display_name": "Python 3",
   "language": "python",
   "name": "python3"
  },
  "language_info": {
   "codemirror_mode": {
    "name": "ipython",
    "version": 3
   },
   "file_extension": ".py",
   "mimetype": "text/x-python",
   "name": "python",
   "nbconvert_exporter": "python",
   "pygments_lexer": "ipython3",
   "version": "3.11.0"
  }
 },
 "nbformat": 4,
 "nbformat_minor": 2
}
