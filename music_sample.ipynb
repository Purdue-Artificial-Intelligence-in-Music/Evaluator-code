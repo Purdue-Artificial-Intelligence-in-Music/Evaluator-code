{
 "cells": [
  {
   "cell_type": "code",
   "execution_count": 31,
   "metadata": {},
   "outputs": [],
   "source": [
    "from music21 import *\n",
    "import numpy"
   ]
  },
  {
   "cell_type": "code",
   "execution_count": 32,
   "metadata": {},
   "outputs": [
    {
     "data": {
      "text/plain": [
       "<bound method Music21Object.show of <music21.note.Note C>>"
      ]
     },
     "execution_count": 32,
     "metadata": {},
     "output_type": "execute_result"
    }
   ],
   "source": [
    "f = note.Note('C5')\n",
    "f.show"
   ]
  },
  {
   "cell_type": "code",
   "execution_count": 3,
   "metadata": {},
   "outputs": [],
   "source": [
    "whole = duration.Duration('whole')\n",
    "half = duration.Duration('half')\n",
    "dottedQuarter = duration.Duration(1.5)\n",
    "quarter = duration.Duration(1)"
   ]
  },
  {
   "cell_type": "code",
   "execution_count": 87,
   "metadata": {},
   "outputs": [],
   "source": [
    "#define music stream basic rules\n",
    "stream1 = stream.Stream()\n",
    "stream1.clef = clef.TrebleClef()\n",
    "stream1.keySignature = key.KeySignature(1)\n",
    "\n",
    "#starting chord\n",
    "chord1 = chord.Chord([\"D4\", \"B4\", \"G5\"], type = 'quarter')\n",
    "stream1.append(chord1)\n",
    "\n",
    "#first notes\n",
    "note1 = note.Note(\"G5\", type = \"quarter\", dots = 1)\n",
    "note1.quarterLength = 1.5\n",
    "stream1.append(note1)\n",
    "\n",
    "#repeated 8th notes\n",
    "for n in range(0,3,1):  \n",
    "    a = note.Note(\"F#5\", type = \"16th\")\n",
    "    stream1.append(a)\n",
    "    a = note.Note(\"G5\", type = \"16th\")\n",
    "    stream1.append(a)\n",
    "\n",
    "#first grace note\n",
    "e = note.Note('E5', type='eighth')\n",
    "eGrace = e.getGrace()\n",
    "stream1.insert(4, eGrace)\n",
    "\n",
    "#d quarternote with RED\n",
    "dQuarter = note.Note('D5', type='quarter')\n",
    "dQuarter.style.color = 'red'\n",
    "stream1.append(dQuarter)\n",
    "\n",
    "#d dotted quarter\n",
    "dDottedQuarter = note.Note('D5', type = 'quarter', dots = 1)\n",
    "stream1.append(dDottedQuarter)\n",
    "\n",
    "#16th notes repeating\n",
    "for n in range(0,3,1):  \n",
    "    a = note.Note(\"C#5\", type = \"16th\")\n",
    "    stream1.append(a)\n",
    "    a = note.Note(\"D5\", type = \"16th\")\n",
    "    stream1.append(a)\n",
    "\n",
    "#C 8th note\n",
    "c58th = note.Note('C5', type = 'eighth')\n",
    "stream1.append(c58th)\n",
    "\n",
    "#B 8th note\n",
    "b58th = note.Note('B4', type='eighth')\n",
    "stream1.append(b58th)\n",
    "\n",
    "#B dotted quarter note\n",
    "b5DottedQuarter = note.Note('B4', type='quarter', dots = 1)\n",
    "stream1.append(b5DottedQuarter)\n",
    "\n",
    "\n",
    "#c5 triplet\n",
    "c5Triplet = note.Note('C5', quarterLength = 1/3)\n",
    "stream1.append(c5Triplet)\n",
    "#add a trill\n",
    "te = expressions.TrillExtension(c5Triplet)\n",
    "te.placement = 'above'\n",
    "stream1.append(te)\n",
    "\n",
    "#d5 triplet\n",
    "d5Triplet = note.Note('D5', quarterLength = 1/3)\n",
    "stream1.append(d5Triplet)\n",
    "\n",
    "#e5 triplet\n",
    "e5Triplet = note.Note('E5', quarterLength = 1/3)\n",
    "stream1.append(e5Triplet)\n",
    "\n",
    "#g4 eighth\n",
    "g48th = note.Note('G4', type = 'eighth')\n",
    "stream1.append(g48th)\n",
    "\n",
    "#f#4 eighth\n",
    "f48th = note.Note('F#4', type = 'eighth')\n",
    "stream1.append(f48th)\n",
    "\n",
    "#f4 quarternote\n",
    "fQuarter = note.Note('F#4', type='quarter')\n",
    "stream1.append(fQuarter)\n",
    "\n",
    "#double rest\n",
    "rest = note.Rest('half')\n",
    "\n",
    "#add the slurs\n",
    "stream1.insert(0.0, spanner.Slur(stream1.notes[2],stream1.notes[3]))\n",
    "stream1.insert(0.0, spanner.Slur(stream1.notes[4],stream1.notes[5]))\n",
    "stream1.insert(0.0, spanner.Slur(stream1.notes[6],stream1.notes[7]))\n",
    "\n",
    "stream1.insert(0.0, spanner.Slur(stream1.notes[11],stream1.notes[12]))\n",
    "stream1.insert(0.0, spanner.Slur(stream1.notes[13],stream1.notes[14]))\n",
    "stream1.insert(0.0, spanner.Slur(stream1.notes[15],stream1.notes[16]))\n",
    "stream1.insert(0.0, spanner.Slur(stream1.notes[10],stream1.notes[12]))\n",
    "\n",
    "stream1.insert(0.0, spanner.Slur(stream1.notes[17],stream1.notes[18]))\n",
    "\n",
    "#display to museScore in musicXML format\n",
    "stream1.show(fmt = 'musicxml')"
   ]
  },
  {
   "cell_type": "code",
   "execution_count": null,
   "metadata": {},
   "outputs": [],
   "source": []
  }
 ],
 "metadata": {
  "kernelspec": {
   "display_name": "Python 3.11.5 ('AIM')",
   "language": "python",
   "name": "python3"
  },
  "language_info": {
   "codemirror_mode": {
    "name": "ipython",
    "version": 3
   },
   "file_extension": ".py",
   "mimetype": "text/x-python",
   "name": "python",
   "nbconvert_exporter": "python",
   "pygments_lexer": "ipython3",
   "version": "3.11.5"
  },
  "orig_nbformat": 4,
  "vscode": {
   "interpreter": {
    "hash": "53801702708ef5feade50f5b990fe842f9a36cd71e3880a265f4185c1cf63833"
   }
  }
 },
 "nbformat": 4,
 "nbformat_minor": 2
}
